{
 "cells": [
  {
   "attachments": {},
   "cell_type": "markdown",
   "metadata": {},
   "source": [
    "# Project 1.\n",
    "---\n",
    "\n",
    "### Analysis\n",
    "\n",
    "- Add your analysis here.\n",
    " "
   ]
  },
  {
   "cell_type": "code",
   "execution_count": 1,
   "metadata": {},
   "outputs": [
    {
     "data": {
      "text/html": [
       "<div>\n",
       "<style scoped>\n",
       "    .dataframe tbody tr th:only-of-type {\n",
       "        vertical-align: middle;\n",
       "    }\n",
       "\n",
       "    .dataframe tbody tr th {\n",
       "        vertical-align: top;\n",
       "    }\n",
       "\n",
       "    .dataframe thead th {\n",
       "        text-align: right;\n",
       "    }\n",
       "</style>\n",
       "<table border=\"1\" class=\"dataframe\">\n",
       "  <thead>\n",
       "    <tr style=\"text-align: right;\">\n",
       "      <th></th>\n",
       "      <th>Rndrng_Prvdr_CCN</th>\n",
       "      <th>Rndrng_Prvdr_Org_Name</th>\n",
       "      <th>Rndrng_Prvdr_City</th>\n",
       "      <th>Rndrng_Prvdr_St</th>\n",
       "      <th>Rndrng_Prvdr_State_FIPS</th>\n",
       "      <th>Rndrng_Prvdr_Zip5</th>\n",
       "      <th>Rndrng_Prvdr_State_Abrvtn</th>\n",
       "      <th>Rndrng_Prvdr_RUCA</th>\n",
       "      <th>Rndrng_Prvdr_RUCA_Desc</th>\n",
       "      <th>DRG_Cd</th>\n",
       "      <th>DRG_Desc</th>\n",
       "      <th>Tot_Dschrgs</th>\n",
       "      <th>Avg_Submtd_Cvrd_Chrg</th>\n",
       "      <th>Avg_Tot_Pymt_Amt</th>\n",
       "      <th>Avg_Mdcr_Pymt_Amt</th>\n",
       "    </tr>\n",
       "  </thead>\n",
       "  <tbody>\n",
       "    <tr>\n",
       "      <th>0</th>\n",
       "      <td>10001</td>\n",
       "      <td>Southeast Health Medical Center</td>\n",
       "      <td>Dothan</td>\n",
       "      <td>1108 Ross Clark Circle</td>\n",
       "      <td>1</td>\n",
       "      <td>36301</td>\n",
       "      <td>AL</td>\n",
       "      <td>1.0</td>\n",
       "      <td>Metropolitan area core: primary flow within an...</td>\n",
       "      <td>23</td>\n",
       "      <td>CRANIOTOMY WITH MAJOR DEVICE IMPLANT OR ACUTE ...</td>\n",
       "      <td>30</td>\n",
       "      <td>160063.40000</td>\n",
       "      <td>36794.266670</td>\n",
       "      <td>33141.400000</td>\n",
       "    </tr>\n",
       "    <tr>\n",
       "      <th>1</th>\n",
       "      <td>10001</td>\n",
       "      <td>Southeast Health Medical Center</td>\n",
       "      <td>Dothan</td>\n",
       "      <td>1108 Ross Clark Circle</td>\n",
       "      <td>1</td>\n",
       "      <td>36301</td>\n",
       "      <td>AL</td>\n",
       "      <td>1.0</td>\n",
       "      <td>Metropolitan area core: primary flow within an...</td>\n",
       "      <td>24</td>\n",
       "      <td>CRANIOTOMY WITH MAJOR DEVICE IMPLANT OR ACUTE ...</td>\n",
       "      <td>16</td>\n",
       "      <td>107171.12500</td>\n",
       "      <td>26893.937500</td>\n",
       "      <td>22705.687500</td>\n",
       "    </tr>\n",
       "    <tr>\n",
       "      <th>2</th>\n",
       "      <td>10001</td>\n",
       "      <td>Southeast Health Medical Center</td>\n",
       "      <td>Dothan</td>\n",
       "      <td>1108 Ross Clark Circle</td>\n",
       "      <td>1</td>\n",
       "      <td>36301</td>\n",
       "      <td>AL</td>\n",
       "      <td>1.0</td>\n",
       "      <td>Metropolitan area core: primary flow within an...</td>\n",
       "      <td>25</td>\n",
       "      <td>CRANIOTOMY AND ENDOVASCULAR INTRACRANIAL PROCE...</td>\n",
       "      <td>20</td>\n",
       "      <td>192609.90000</td>\n",
       "      <td>31374.650000</td>\n",
       "      <td>27815.600000</td>\n",
       "    </tr>\n",
       "    <tr>\n",
       "      <th>3</th>\n",
       "      <td>10001</td>\n",
       "      <td>Southeast Health Medical Center</td>\n",
       "      <td>Dothan</td>\n",
       "      <td>1108 Ross Clark Circle</td>\n",
       "      <td>1</td>\n",
       "      <td>36301</td>\n",
       "      <td>AL</td>\n",
       "      <td>1.0</td>\n",
       "      <td>Metropolitan area core: primary flow within an...</td>\n",
       "      <td>38</td>\n",
       "      <td>EXTRACRANIAL PROCEDURES WITH CC</td>\n",
       "      <td>18</td>\n",
       "      <td>112215.66670</td>\n",
       "      <td>12354.777780</td>\n",
       "      <td>8848.666667</td>\n",
       "    </tr>\n",
       "    <tr>\n",
       "      <th>4</th>\n",
       "      <td>10001</td>\n",
       "      <td>Southeast Health Medical Center</td>\n",
       "      <td>Dothan</td>\n",
       "      <td>1108 Ross Clark Circle</td>\n",
       "      <td>1</td>\n",
       "      <td>36301</td>\n",
       "      <td>AL</td>\n",
       "      <td>1.0</td>\n",
       "      <td>Metropolitan area core: primary flow within an...</td>\n",
       "      <td>39</td>\n",
       "      <td>EXTRACRANIAL PROCEDURES WITHOUT CC/MCC</td>\n",
       "      <td>43</td>\n",
       "      <td>89606.95349</td>\n",
       "      <td>8284.186047</td>\n",
       "      <td>6182.697674</td>\n",
       "    </tr>\n",
       "  </tbody>\n",
       "</table>\n",
       "</div>"
      ],
      "text/plain": [
       "   Rndrng_Prvdr_CCN            Rndrng_Prvdr_Org_Name Rndrng_Prvdr_City  \\\n",
       "0             10001  Southeast Health Medical Center            Dothan   \n",
       "1             10001  Southeast Health Medical Center            Dothan   \n",
       "2             10001  Southeast Health Medical Center            Dothan   \n",
       "3             10001  Southeast Health Medical Center            Dothan   \n",
       "4             10001  Southeast Health Medical Center            Dothan   \n",
       "\n",
       "          Rndrng_Prvdr_St  Rndrng_Prvdr_State_FIPS  Rndrng_Prvdr_Zip5  \\\n",
       "0  1108 Ross Clark Circle                        1              36301   \n",
       "1  1108 Ross Clark Circle                        1              36301   \n",
       "2  1108 Ross Clark Circle                        1              36301   \n",
       "3  1108 Ross Clark Circle                        1              36301   \n",
       "4  1108 Ross Clark Circle                        1              36301   \n",
       "\n",
       "  Rndrng_Prvdr_State_Abrvtn  Rndrng_Prvdr_RUCA  \\\n",
       "0                        AL                1.0   \n",
       "1                        AL                1.0   \n",
       "2                        AL                1.0   \n",
       "3                        AL                1.0   \n",
       "4                        AL                1.0   \n",
       "\n",
       "                              Rndrng_Prvdr_RUCA_Desc  DRG_Cd  \\\n",
       "0  Metropolitan area core: primary flow within an...      23   \n",
       "1  Metropolitan area core: primary flow within an...      24   \n",
       "2  Metropolitan area core: primary flow within an...      25   \n",
       "3  Metropolitan area core: primary flow within an...      38   \n",
       "4  Metropolitan area core: primary flow within an...      39   \n",
       "\n",
       "                                            DRG_Desc  Tot_Dschrgs  \\\n",
       "0  CRANIOTOMY WITH MAJOR DEVICE IMPLANT OR ACUTE ...           30   \n",
       "1  CRANIOTOMY WITH MAJOR DEVICE IMPLANT OR ACUTE ...           16   \n",
       "2  CRANIOTOMY AND ENDOVASCULAR INTRACRANIAL PROCE...           20   \n",
       "3                    EXTRACRANIAL PROCEDURES WITH CC           18   \n",
       "4             EXTRACRANIAL PROCEDURES WITHOUT CC/MCC           43   \n",
       "\n",
       "   Avg_Submtd_Cvrd_Chrg  Avg_Tot_Pymt_Amt  Avg_Mdcr_Pymt_Amt  \n",
       "0          160063.40000      36794.266670       33141.400000  \n",
       "1          107171.12500      26893.937500       22705.687500  \n",
       "2          192609.90000      31374.650000       27815.600000  \n",
       "3          112215.66670      12354.777780        8848.666667  \n",
       "4           89606.95349       8284.186047        6182.697674  "
      ]
     },
     "execution_count": 1,
     "metadata": {},
     "output_type": "execute_result"
    }
   ],
   "source": [
    "# Dependencies and Setup\n",
    "import matplotlib.pyplot as plt\n",
    "import pandas as pd\n",
    "import scipy.stats as st\n",
    "import plotly.express as px \n",
    "\n",
    "\n",
    "# Study data files\n",
    "medicare_path = \"resources/Medicare_Inpatient_Hospital_by_Provider_and_Service_2021.csv\" \n",
    "\n",
    "# Read the mouse data and the study results\n",
    "medicare_data = pd.read_csv(medicare_path)\n",
    "\n",
    "\n",
    "# Display the data table for preview\n",
    "medicare_data.head()\n"
   ]
  },
  {
   "cell_type": "code",
   "execution_count": 2,
   "metadata": {},
   "outputs": [
    {
     "name": "stdout",
     "output_type": "stream",
     "text": [
      "<class 'pandas.core.frame.DataFrame'>\n",
      "RangeIndex: 151989 entries, 0 to 151988\n",
      "Data columns (total 15 columns):\n",
      " #   Column                     Non-Null Count   Dtype  \n",
      "---  ------                     --------------   -----  \n",
      " 0   Rndrng_Prvdr_CCN           151989 non-null  int64  \n",
      " 1   Rndrng_Prvdr_Org_Name      151989 non-null  object \n",
      " 2   Rndrng_Prvdr_City          151989 non-null  object \n",
      " 3   Rndrng_Prvdr_St            151989 non-null  object \n",
      " 4   Rndrng_Prvdr_State_FIPS    151989 non-null  int64  \n",
      " 5   Rndrng_Prvdr_Zip5          151989 non-null  int64  \n",
      " 6   Rndrng_Prvdr_State_Abrvtn  151989 non-null  object \n",
      " 7   Rndrng_Prvdr_RUCA          151989 non-null  float64\n",
      " 8   Rndrng_Prvdr_RUCA_Desc     151989 non-null  object \n",
      " 9   DRG_Cd                     151989 non-null  int64  \n",
      " 10  DRG_Desc                   151989 non-null  object \n",
      " 11  Tot_Dschrgs                151989 non-null  int64  \n",
      " 12  Avg_Submtd_Cvrd_Chrg       151989 non-null  float64\n",
      " 13  Avg_Tot_Pymt_Amt           151989 non-null  float64\n",
      " 14  Avg_Mdcr_Pymt_Amt          151989 non-null  float64\n",
      "dtypes: float64(4), int64(5), object(6)\n",
      "memory usage: 17.4+ MB\n"
     ]
    }
   ],
   "source": [
    "medicare_data.info()"
   ]
  },
  {
   "cell_type": "code",
   "execution_count": 3,
   "metadata": {},
   "outputs": [],
   "source": [
    "#Check data types (convert dates), decide what to do with null values, change column names "
   ]
  },
  {
   "cell_type": "code",
   "execution_count": 4,
   "metadata": {},
   "outputs": [
    {
     "data": {
      "text/html": [
       "<div>\n",
       "<style scoped>\n",
       "    .dataframe tbody tr th:only-of-type {\n",
       "        vertical-align: middle;\n",
       "    }\n",
       "\n",
       "    .dataframe tbody tr th {\n",
       "        vertical-align: top;\n",
       "    }\n",
       "\n",
       "    .dataframe thead th {\n",
       "        text-align: right;\n",
       "    }\n",
       "</style>\n",
       "<table border=\"1\" class=\"dataframe\">\n",
       "  <thead>\n",
       "    <tr style=\"text-align: right;\">\n",
       "      <th></th>\n",
       "      <th>Rndrng_Prvdr_CCN</th>\n",
       "      <th>Rndrng_Prvdr_State_FIPS</th>\n",
       "      <th>Rndrng_Prvdr_Zip5</th>\n",
       "      <th>Rndrng_Prvdr_RUCA</th>\n",
       "      <th>DRG_Cd</th>\n",
       "      <th>Tot_Dschrgs</th>\n",
       "      <th>Avg_Submtd_Cvrd_Chrg</th>\n",
       "      <th>Avg_Tot_Pymt_Amt</th>\n",
       "      <th>Avg_Mdcr_Pymt_Amt</th>\n",
       "    </tr>\n",
       "  </thead>\n",
       "  <tbody>\n",
       "    <tr>\n",
       "      <th>count</th>\n",
       "      <td>151989.000000</td>\n",
       "      <td>151989.000000</td>\n",
       "      <td>151989.000000</td>\n",
       "      <td>151989.000000</td>\n",
       "      <td>151989.000000</td>\n",
       "      <td>151989.000000</td>\n",
       "      <td>1.519890e+05</td>\n",
       "      <td>151989.000000</td>\n",
       "      <td>151989.000000</td>\n",
       "    </tr>\n",
       "    <tr>\n",
       "      <th>mean</th>\n",
       "      <td>255627.918751</td>\n",
       "      <td>27.955082</td>\n",
       "      <td>47407.442710</td>\n",
       "      <td>1.798583</td>\n",
       "      <td>421.301588</td>\n",
       "      <td>34.560909</td>\n",
       "      <td>8.311592e+04</td>\n",
       "      <td>18182.927578</td>\n",
       "      <td>15282.824775</td>\n",
       "    </tr>\n",
       "    <tr>\n",
       "      <th>std</th>\n",
       "      <td>151927.769369</td>\n",
       "      <td>15.411830</td>\n",
       "      <td>28415.829241</td>\n",
       "      <td>6.431545</td>\n",
       "      <td>253.106873</td>\n",
       "      <td>51.031237</td>\n",
       "      <td>1.051981e+05</td>\n",
       "      <td>20446.575550</td>\n",
       "      <td>17964.769050</td>\n",
       "    </tr>\n",
       "    <tr>\n",
       "      <th>min</th>\n",
       "      <td>10001.000000</td>\n",
       "      <td>1.000000</td>\n",
       "      <td>1040.000000</td>\n",
       "      <td>1.000000</td>\n",
       "      <td>1.000000</td>\n",
       "      <td>11.000000</td>\n",
       "      <td>3.340845e+03</td>\n",
       "      <td>2383.923077</td>\n",
       "      <td>132.923077</td>\n",
       "    </tr>\n",
       "    <tr>\n",
       "      <th>25%</th>\n",
       "      <td>110036.000000</td>\n",
       "      <td>13.000000</td>\n",
       "      <td>24014.000000</td>\n",
       "      <td>1.000000</td>\n",
       "      <td>228.000000</td>\n",
       "      <td>14.000000</td>\n",
       "      <td>3.208451e+04</td>\n",
       "      <td>8217.538462</td>\n",
       "      <td>6500.611111</td>\n",
       "    </tr>\n",
       "    <tr>\n",
       "      <th>50%</th>\n",
       "      <td>240207.000000</td>\n",
       "      <td>27.000000</td>\n",
       "      <td>44053.000000</td>\n",
       "      <td>1.000000</td>\n",
       "      <td>377.000000</td>\n",
       "      <td>20.000000</td>\n",
       "      <td>5.333833e+04</td>\n",
       "      <td>12327.039060</td>\n",
       "      <td>10196.000000</td>\n",
       "    </tr>\n",
       "    <tr>\n",
       "      <th>75%</th>\n",
       "      <td>380018.000000</td>\n",
       "      <td>41.000000</td>\n",
       "      <td>73070.000000</td>\n",
       "      <td>1.000000</td>\n",
       "      <td>639.000000</td>\n",
       "      <td>35.000000</td>\n",
       "      <td>9.466100e+04</td>\n",
       "      <td>20001.594600</td>\n",
       "      <td>16732.233330</td>\n",
       "    </tr>\n",
       "    <tr>\n",
       "      <th>max</th>\n",
       "      <td>670309.000000</td>\n",
       "      <td>56.000000</td>\n",
       "      <td>99801.000000</td>\n",
       "      <td>99.000000</td>\n",
       "      <td>988.000000</td>\n",
       "      <td>2650.000000</td>\n",
       "      <td>3.697459e+06</td>\n",
       "      <td>632473.076900</td>\n",
       "      <td>610619.909100</td>\n",
       "    </tr>\n",
       "  </tbody>\n",
       "</table>\n",
       "</div>"
      ],
      "text/plain": [
       "       Rndrng_Prvdr_CCN  Rndrng_Prvdr_State_FIPS  Rndrng_Prvdr_Zip5  \\\n",
       "count     151989.000000            151989.000000      151989.000000   \n",
       "mean      255627.918751                27.955082       47407.442710   \n",
       "std       151927.769369                15.411830       28415.829241   \n",
       "min        10001.000000                 1.000000        1040.000000   \n",
       "25%       110036.000000                13.000000       24014.000000   \n",
       "50%       240207.000000                27.000000       44053.000000   \n",
       "75%       380018.000000                41.000000       73070.000000   \n",
       "max       670309.000000                56.000000       99801.000000   \n",
       "\n",
       "       Rndrng_Prvdr_RUCA         DRG_Cd    Tot_Dschrgs  Avg_Submtd_Cvrd_Chrg  \\\n",
       "count      151989.000000  151989.000000  151989.000000          1.519890e+05   \n",
       "mean            1.798583     421.301588      34.560909          8.311592e+04   \n",
       "std             6.431545     253.106873      51.031237          1.051981e+05   \n",
       "min             1.000000       1.000000      11.000000          3.340845e+03   \n",
       "25%             1.000000     228.000000      14.000000          3.208451e+04   \n",
       "50%             1.000000     377.000000      20.000000          5.333833e+04   \n",
       "75%             1.000000     639.000000      35.000000          9.466100e+04   \n",
       "max            99.000000     988.000000    2650.000000          3.697459e+06   \n",
       "\n",
       "       Avg_Tot_Pymt_Amt  Avg_Mdcr_Pymt_Amt  \n",
       "count     151989.000000      151989.000000  \n",
       "mean       18182.927578       15282.824775  \n",
       "std        20446.575550       17964.769050  \n",
       "min         2383.923077         132.923077  \n",
       "25%         8217.538462        6500.611111  \n",
       "50%        12327.039060       10196.000000  \n",
       "75%        20001.594600       16732.233330  \n",
       "max       632473.076900      610619.909100  "
      ]
     },
     "execution_count": 4,
     "metadata": {},
     "output_type": "execute_result"
    }
   ],
   "source": [
    "medicare_data.describe()\n"
   ]
  },
  {
   "cell_type": "code",
   "execution_count": 6,
   "metadata": {},
   "outputs": [
    {
     "data": {
      "text/plain": [
       "DRG_Desc\n",
       "RESPIRATORY INFECTIONS AND INFLAMMATIONS WITH MCC                                        2830\n",
       "SEPTICEMIA OR SEVERE SEPSIS WITHOUT MV >96 HOURS WITH MCC                                2718\n",
       "HEART FAILURE AND SHOCK WITH MCC                                                         2653\n",
       "SEPTICEMIA OR SEVERE SEPSIS WITHOUT MV >96 HOURS WITHOUT MCC                             2309\n",
       "SIMPLE PNEUMONIA AND PLEURISY WITH MCC                                                   2205\n",
       "KIDNEY AND URINARY TRACT INFECTIONS WITHOUT MCC                                          2078\n",
       "RENAL FAILURE WITH CC                                                                    2047\n",
       "PULMONARY EDEMA AND RESPIRATORY FAILURE                                                  2040\n",
       "GASTROINTESTINAL HEMORRHAGE WITH CC                                                      2018\n",
       "ESOPHAGITIS, GASTROENTERITIS AND MISCELLANEOUS DIGESTIVE DISORDERS WITHOUT MCC           2014\n",
       "RENAL FAILURE WITH MCC                                                                   1991\n",
       "MISCELLANEOUS DISORDERS OF NUTRITION, METABOLISM, FLUIDS AND ELECTROLYTES WITHOUT MCC    1922\n",
       "MISCELLANEOUS DISORDERS OF NUTRITION, METABOLISM, FLUIDS AND ELECTROLYTES WITH MCC       1857\n",
       "ACUTE MYOCARDIAL INFARCTION, DISCHARGED ALIVE WITH MCC                                   1853\n",
       "INFECTIOUS AND PARASITIC DISEASES WITH O.R. PROCEDURES WITH MCC                          1840\n",
       "KIDNEY AND URINARY TRACT INFECTIONS WITH MCC                                             1833\n",
       "INTRACRANIAL HEMORRHAGE OR CEREBRAL INFARCTION WITH CC OR TPA IN 24 HOURS                1821\n",
       "HIP AND FEMUR PROCEDURES EXCEPT MAJOR JOINT WITH CC                                      1805\n",
       "CELLULITIS WITHOUT MCC                                                                   1765\n",
       "CHRONIC OBSTRUCTIVE PULMONARY DISEASE WITH MCC                                           1721\n",
       "Name: count, dtype: int64"
      ]
     },
     "execution_count": 6,
     "metadata": {},
     "output_type": "execute_result"
    }
   ],
   "source": [
    "medicare_data[\"DRG_Desc\"].value_counts().head(20)\n"
   ]
  },
  {
   "cell_type": "code",
   "execution_count": 7,
   "metadata": {},
   "outputs": [
    {
     "data": {
      "text/plain": [
       "524"
      ]
     },
     "execution_count": 7,
     "metadata": {},
     "output_type": "execute_result"
    }
   ],
   "source": [
    "# Checking the number of conditions; there are 538 DRG codes versus 524 DRG descriptions \n",
    "drg_count = medicare_data[\"DRG_Desc\"].nunique()\n",
    "drg_count"
   ]
  },
  {
   "cell_type": "code",
   "execution_count": null,
   "metadata": {},
   "outputs": [],
   "source": [
    "#Create cost summary tables/bar charts as was done for septicemia with and without MCC \n",
    "#RESPIRATORY INFECTIONS AND INFLAMMATIONS WITH MCC \n",
    "#HEART FAILURE AND SHOCK WITH MCC\n",
    "#SIMPLE PNEUMONIA AND PLEURISY WITH MCC\n"
   ]
  },
  {
   "cell_type": "code",
   "execution_count": 9,
   "metadata": {},
   "outputs": [
    {
     "data": {
      "text/html": [
       "<div>\n",
       "<style scoped>\n",
       "    .dataframe tbody tr th:only-of-type {\n",
       "        vertical-align: middle;\n",
       "    }\n",
       "\n",
       "    .dataframe tbody tr th {\n",
       "        vertical-align: top;\n",
       "    }\n",
       "\n",
       "    .dataframe thead th {\n",
       "        text-align: right;\n",
       "    }\n",
       "</style>\n",
       "<table border=\"1\" class=\"dataframe\">\n",
       "  <thead>\n",
       "    <tr style=\"text-align: right;\">\n",
       "      <th></th>\n",
       "      <th>Mean Submitted Covered Charge</th>\n",
       "      <th>Average Total Payment Amount</th>\n",
       "      <th>Average Medicare Payment Amount</th>\n",
       "      <th>Average Coverage (%)</th>\n",
       "    </tr>\n",
       "    <tr>\n",
       "      <th>Rndrng_Prvdr_State_Abrvtn</th>\n",
       "      <th></th>\n",
       "      <th></th>\n",
       "      <th></th>\n",
       "      <th></th>\n",
       "    </tr>\n",
       "  </thead>\n",
       "  <tbody>\n",
       "    <tr>\n",
       "      <th>AK</th>\n",
       "      <td>84611.451284</td>\n",
       "      <td>27184.162910</td>\n",
       "      <td>25228.572857</td>\n",
       "      <td>29.816972</td>\n",
       "    </tr>\n",
       "    <tr>\n",
       "      <th>AL</th>\n",
       "      <td>65082.085331</td>\n",
       "      <td>13619.981751</td>\n",
       "      <td>11467.334724</td>\n",
       "      <td>17.619802</td>\n",
       "    </tr>\n",
       "    <tr>\n",
       "      <th>AR</th>\n",
       "      <td>46657.009815</td>\n",
       "      <td>12906.422388</td>\n",
       "      <td>11400.033975</td>\n",
       "      <td>24.433700</td>\n",
       "    </tr>\n",
       "    <tr>\n",
       "      <th>AZ</th>\n",
       "      <td>83729.376898</td>\n",
       "      <td>15987.220234</td>\n",
       "      <td>13918.213643</td>\n",
       "      <td>16.622856</td>\n",
       "    </tr>\n",
       "    <tr>\n",
       "      <th>CA</th>\n",
       "      <td>114488.611691</td>\n",
       "      <td>21627.097657</td>\n",
       "      <td>18551.898044</td>\n",
       "      <td>16.204143</td>\n",
       "    </tr>\n",
       "    <tr>\n",
       "      <th>CO</th>\n",
       "      <td>83538.145801</td>\n",
       "      <td>16775.801685</td>\n",
       "      <td>14354.140980</td>\n",
       "      <td>17.182738</td>\n",
       "    </tr>\n",
       "    <tr>\n",
       "      <th>CT</th>\n",
       "      <td>53104.028492</td>\n",
       "      <td>18524.823135</td>\n",
       "      <td>16317.390069</td>\n",
       "      <td>30.727217</td>\n",
       "    </tr>\n",
       "    <tr>\n",
       "      <th>DC</th>\n",
       "      <td>97006.030062</td>\n",
       "      <td>22664.944952</td>\n",
       "      <td>17417.004482</td>\n",
       "      <td>17.954559</td>\n",
       "    </tr>\n",
       "    <tr>\n",
       "      <th>DE</th>\n",
       "      <td>55242.067692</td>\n",
       "      <td>18177.481047</td>\n",
       "      <td>15998.810707</td>\n",
       "      <td>28.961281</td>\n",
       "    </tr>\n",
       "    <tr>\n",
       "      <th>FL</th>\n",
       "      <td>97708.122560</td>\n",
       "      <td>14456.754918</td>\n",
       "      <td>12490.601582</td>\n",
       "      <td>12.783586</td>\n",
       "    </tr>\n",
       "    <tr>\n",
       "      <th>GA</th>\n",
       "      <td>65301.174391</td>\n",
       "      <td>15966.405227</td>\n",
       "      <td>13417.113169</td>\n",
       "      <td>20.546511</td>\n",
       "    </tr>\n",
       "    <tr>\n",
       "      <th>HI</th>\n",
       "      <td>59425.983793</td>\n",
       "      <td>21796.466924</td>\n",
       "      <td>18338.332547</td>\n",
       "      <td>30.859115</td>\n",
       "    </tr>\n",
       "    <tr>\n",
       "      <th>IA</th>\n",
       "      <td>40808.063355</td>\n",
       "      <td>13411.113605</td>\n",
       "      <td>11868.364648</td>\n",
       "      <td>29.083381</td>\n",
       "    </tr>\n",
       "    <tr>\n",
       "      <th>ID</th>\n",
       "      <td>55175.437455</td>\n",
       "      <td>15267.524525</td>\n",
       "      <td>13332.746681</td>\n",
       "      <td>24.164279</td>\n",
       "    </tr>\n",
       "    <tr>\n",
       "      <th>IL</th>\n",
       "      <td>66473.450553</td>\n",
       "      <td>16393.371639</td>\n",
       "      <td>14077.645795</td>\n",
       "      <td>21.177847</td>\n",
       "    </tr>\n",
       "    <tr>\n",
       "      <th>IN</th>\n",
       "      <td>54582.212506</td>\n",
       "      <td>14514.700863</td>\n",
       "      <td>12923.935806</td>\n",
       "      <td>23.677926</td>\n",
       "    </tr>\n",
       "    <tr>\n",
       "      <th>KS</th>\n",
       "      <td>55916.738466</td>\n",
       "      <td>14470.754261</td>\n",
       "      <td>12933.048443</td>\n",
       "      <td>23.129118</td>\n",
       "    </tr>\n",
       "    <tr>\n",
       "      <th>KY</th>\n",
       "      <td>54822.304900</td>\n",
       "      <td>13640.309043</td>\n",
       "      <td>11934.938838</td>\n",
       "      <td>21.770224</td>\n",
       "    </tr>\n",
       "    <tr>\n",
       "      <th>LA</th>\n",
       "      <td>53535.064711</td>\n",
       "      <td>14298.820870</td>\n",
       "      <td>12360.689815</td>\n",
       "      <td>23.088960</td>\n",
       "    </tr>\n",
       "    <tr>\n",
       "      <th>MA</th>\n",
       "      <td>36761.936742</td>\n",
       "      <td>17719.899350</td>\n",
       "      <td>15980.725683</td>\n",
       "      <td>43.470848</td>\n",
       "    </tr>\n",
       "    <tr>\n",
       "      <th>MD</th>\n",
       "      <td>27296.262250</td>\n",
       "      <td>25244.312394</td>\n",
       "      <td>23730.463990</td>\n",
       "      <td>86.936679</td>\n",
       "    </tr>\n",
       "    <tr>\n",
       "      <th>ME</th>\n",
       "      <td>42146.705172</td>\n",
       "      <td>17114.532282</td>\n",
       "      <td>15472.760854</td>\n",
       "      <td>36.711674</td>\n",
       "    </tr>\n",
       "    <tr>\n",
       "      <th>MI</th>\n",
       "      <td>44305.194244</td>\n",
       "      <td>15701.392151</td>\n",
       "      <td>13692.565649</td>\n",
       "      <td>30.905102</td>\n",
       "    </tr>\n",
       "    <tr>\n",
       "      <th>MN</th>\n",
       "      <td>43409.462780</td>\n",
       "      <td>16689.041076</td>\n",
       "      <td>14644.853680</td>\n",
       "      <td>33.736547</td>\n",
       "    </tr>\n",
       "    <tr>\n",
       "      <th>MO</th>\n",
       "      <td>59826.487030</td>\n",
       "      <td>15106.651400</td>\n",
       "      <td>13476.036432</td>\n",
       "      <td>22.525201</td>\n",
       "    </tr>\n",
       "    <tr>\n",
       "      <th>MS</th>\n",
       "      <td>62957.329744</td>\n",
       "      <td>13733.224196</td>\n",
       "      <td>12287.093797</td>\n",
       "      <td>19.516542</td>\n",
       "    </tr>\n",
       "    <tr>\n",
       "      <th>MT</th>\n",
       "      <td>42243.539530</td>\n",
       "      <td>14960.034861</td>\n",
       "      <td>13484.281221</td>\n",
       "      <td>31.920339</td>\n",
       "    </tr>\n",
       "    <tr>\n",
       "      <th>NC</th>\n",
       "      <td>47094.870894</td>\n",
       "      <td>15159.424095</td>\n",
       "      <td>12843.949276</td>\n",
       "      <td>27.272501</td>\n",
       "    </tr>\n",
       "    <tr>\n",
       "      <th>ND</th>\n",
       "      <td>44024.486745</td>\n",
       "      <td>15004.542498</td>\n",
       "      <td>13084.964387</td>\n",
       "      <td>29.722015</td>\n",
       "    </tr>\n",
       "    <tr>\n",
       "      <th>NE</th>\n",
       "      <td>54129.618494</td>\n",
       "      <td>15362.273414</td>\n",
       "      <td>13433.676910</td>\n",
       "      <td>24.817609</td>\n",
       "    </tr>\n",
       "    <tr>\n",
       "      <th>NH</th>\n",
       "      <td>52854.918351</td>\n",
       "      <td>15531.690632</td>\n",
       "      <td>13495.716919</td>\n",
       "      <td>25.533512</td>\n",
       "    </tr>\n",
       "    <tr>\n",
       "      <th>NJ</th>\n",
       "      <td>130002.202548</td>\n",
       "      <td>18950.457947</td>\n",
       "      <td>16205.332060</td>\n",
       "      <td>12.465429</td>\n",
       "    </tr>\n",
       "    <tr>\n",
       "      <th>NM</th>\n",
       "      <td>59747.461843</td>\n",
       "      <td>16875.981361</td>\n",
       "      <td>14937.266726</td>\n",
       "      <td>25.000672</td>\n",
       "    </tr>\n",
       "    <tr>\n",
       "      <th>NV</th>\n",
       "      <td>140554.514989</td>\n",
       "      <td>17378.459231</td>\n",
       "      <td>14912.615432</td>\n",
       "      <td>10.609844</td>\n",
       "    </tr>\n",
       "    <tr>\n",
       "      <th>NY</th>\n",
       "      <td>69674.717650</td>\n",
       "      <td>21305.249861</td>\n",
       "      <td>18844.349033</td>\n",
       "      <td>27.046179</td>\n",
       "    </tr>\n",
       "    <tr>\n",
       "      <th>OH</th>\n",
       "      <td>51234.992958</td>\n",
       "      <td>15206.940546</td>\n",
       "      <td>12870.058757</td>\n",
       "      <td>25.119665</td>\n",
       "    </tr>\n",
       "    <tr>\n",
       "      <th>OK</th>\n",
       "      <td>58977.895375</td>\n",
       "      <td>14213.292499</td>\n",
       "      <td>12711.641299</td>\n",
       "      <td>21.553230</td>\n",
       "    </tr>\n",
       "    <tr>\n",
       "      <th>OR</th>\n",
       "      <td>52537.591832</td>\n",
       "      <td>18448.934647</td>\n",
       "      <td>16255.354145</td>\n",
       "      <td>30.940425</td>\n",
       "    </tr>\n",
       "    <tr>\n",
       "      <th>PA</th>\n",
       "      <td>71035.694906</td>\n",
       "      <td>15802.376670</td>\n",
       "      <td>12960.105290</td>\n",
       "      <td>18.244497</td>\n",
       "    </tr>\n",
       "    <tr>\n",
       "      <th>RI</th>\n",
       "      <td>48623.866118</td>\n",
       "      <td>15090.719194</td>\n",
       "      <td>13086.735746</td>\n",
       "      <td>26.914223</td>\n",
       "    </tr>\n",
       "    <tr>\n",
       "      <th>SC</th>\n",
       "      <td>63089.609758</td>\n",
       "      <td>14763.339347</td>\n",
       "      <td>12431.416652</td>\n",
       "      <td>19.704380</td>\n",
       "    </tr>\n",
       "    <tr>\n",
       "      <th>SD</th>\n",
       "      <td>46889.864945</td>\n",
       "      <td>15316.896068</td>\n",
       "      <td>13844.514155</td>\n",
       "      <td>29.525600</td>\n",
       "    </tr>\n",
       "    <tr>\n",
       "      <th>TN</th>\n",
       "      <td>56340.764454</td>\n",
       "      <td>14166.360205</td>\n",
       "      <td>11905.308375</td>\n",
       "      <td>21.130896</td>\n",
       "    </tr>\n",
       "    <tr>\n",
       "      <th>TX</th>\n",
       "      <td>83383.265261</td>\n",
       "      <td>16453.450191</td>\n",
       "      <td>14369.547778</td>\n",
       "      <td>17.233132</td>\n",
       "    </tr>\n",
       "    <tr>\n",
       "      <th>UT</th>\n",
       "      <td>42870.972251</td>\n",
       "      <td>14782.149002</td>\n",
       "      <td>12820.650754</td>\n",
       "      <td>29.905202</td>\n",
       "    </tr>\n",
       "    <tr>\n",
       "      <th>VA</th>\n",
       "      <td>54999.297237</td>\n",
       "      <td>15142.551485</td>\n",
       "      <td>12758.860350</td>\n",
       "      <td>23.198224</td>\n",
       "    </tr>\n",
       "    <tr>\n",
       "      <th>VT</th>\n",
       "      <td>36416.567102</td>\n",
       "      <td>12817.942267</td>\n",
       "      <td>11291.563609</td>\n",
       "      <td>31.006667</td>\n",
       "    </tr>\n",
       "    <tr>\n",
       "      <th>WA</th>\n",
       "      <td>66934.219696</td>\n",
       "      <td>17035.795952</td>\n",
       "      <td>14803.782065</td>\n",
       "      <td>22.116911</td>\n",
       "    </tr>\n",
       "    <tr>\n",
       "      <th>WI</th>\n",
       "      <td>47733.910356</td>\n",
       "      <td>14937.219160</td>\n",
       "      <td>12999.879538</td>\n",
       "      <td>27.234055</td>\n",
       "    </tr>\n",
       "    <tr>\n",
       "      <th>WV</th>\n",
       "      <td>44916.262323</td>\n",
       "      <td>14239.448701</td>\n",
       "      <td>11914.597453</td>\n",
       "      <td>26.526244</td>\n",
       "    </tr>\n",
       "    <tr>\n",
       "      <th>WY</th>\n",
       "      <td>42791.745704</td>\n",
       "      <td>20205.713854</td>\n",
       "      <td>18784.024759</td>\n",
       "      <td>43.896374</td>\n",
       "    </tr>\n",
       "  </tbody>\n",
       "</table>\n",
       "</div>"
      ],
      "text/plain": [
       "                           Mean Submitted Covered Charge  \\\n",
       "Rndrng_Prvdr_State_Abrvtn                                  \n",
       "AK                                          84611.451284   \n",
       "AL                                          65082.085331   \n",
       "AR                                          46657.009815   \n",
       "AZ                                          83729.376898   \n",
       "CA                                         114488.611691   \n",
       "CO                                          83538.145801   \n",
       "CT                                          53104.028492   \n",
       "DC                                          97006.030062   \n",
       "DE                                          55242.067692   \n",
       "FL                                          97708.122560   \n",
       "GA                                          65301.174391   \n",
       "HI                                          59425.983793   \n",
       "IA                                          40808.063355   \n",
       "ID                                          55175.437455   \n",
       "IL                                          66473.450553   \n",
       "IN                                          54582.212506   \n",
       "KS                                          55916.738466   \n",
       "KY                                          54822.304900   \n",
       "LA                                          53535.064711   \n",
       "MA                                          36761.936742   \n",
       "MD                                          27296.262250   \n",
       "ME                                          42146.705172   \n",
       "MI                                          44305.194244   \n",
       "MN                                          43409.462780   \n",
       "MO                                          59826.487030   \n",
       "MS                                          62957.329744   \n",
       "MT                                          42243.539530   \n",
       "NC                                          47094.870894   \n",
       "ND                                          44024.486745   \n",
       "NE                                          54129.618494   \n",
       "NH                                          52854.918351   \n",
       "NJ                                         130002.202548   \n",
       "NM                                          59747.461843   \n",
       "NV                                         140554.514989   \n",
       "NY                                          69674.717650   \n",
       "OH                                          51234.992958   \n",
       "OK                                          58977.895375   \n",
       "OR                                          52537.591832   \n",
       "PA                                          71035.694906   \n",
       "RI                                          48623.866118   \n",
       "SC                                          63089.609758   \n",
       "SD                                          46889.864945   \n",
       "TN                                          56340.764454   \n",
       "TX                                          83383.265261   \n",
       "UT                                          42870.972251   \n",
       "VA                                          54999.297237   \n",
       "VT                                          36416.567102   \n",
       "WA                                          66934.219696   \n",
       "WI                                          47733.910356   \n",
       "WV                                          44916.262323   \n",
       "WY                                          42791.745704   \n",
       "\n",
       "                           Average Total Payment Amount  \\\n",
       "Rndrng_Prvdr_State_Abrvtn                                 \n",
       "AK                                         27184.162910   \n",
       "AL                                         13619.981751   \n",
       "AR                                         12906.422388   \n",
       "AZ                                         15987.220234   \n",
       "CA                                         21627.097657   \n",
       "CO                                         16775.801685   \n",
       "CT                                         18524.823135   \n",
       "DC                                         22664.944952   \n",
       "DE                                         18177.481047   \n",
       "FL                                         14456.754918   \n",
       "GA                                         15966.405227   \n",
       "HI                                         21796.466924   \n",
       "IA                                         13411.113605   \n",
       "ID                                         15267.524525   \n",
       "IL                                         16393.371639   \n",
       "IN                                         14514.700863   \n",
       "KS                                         14470.754261   \n",
       "KY                                         13640.309043   \n",
       "LA                                         14298.820870   \n",
       "MA                                         17719.899350   \n",
       "MD                                         25244.312394   \n",
       "ME                                         17114.532282   \n",
       "MI                                         15701.392151   \n",
       "MN                                         16689.041076   \n",
       "MO                                         15106.651400   \n",
       "MS                                         13733.224196   \n",
       "MT                                         14960.034861   \n",
       "NC                                         15159.424095   \n",
       "ND                                         15004.542498   \n",
       "NE                                         15362.273414   \n",
       "NH                                         15531.690632   \n",
       "NJ                                         18950.457947   \n",
       "NM                                         16875.981361   \n",
       "NV                                         17378.459231   \n",
       "NY                                         21305.249861   \n",
       "OH                                         15206.940546   \n",
       "OK                                         14213.292499   \n",
       "OR                                         18448.934647   \n",
       "PA                                         15802.376670   \n",
       "RI                                         15090.719194   \n",
       "SC                                         14763.339347   \n",
       "SD                                         15316.896068   \n",
       "TN                                         14166.360205   \n",
       "TX                                         16453.450191   \n",
       "UT                                         14782.149002   \n",
       "VA                                         15142.551485   \n",
       "VT                                         12817.942267   \n",
       "WA                                         17035.795952   \n",
       "WI                                         14937.219160   \n",
       "WV                                         14239.448701   \n",
       "WY                                         20205.713854   \n",
       "\n",
       "                           Average Medicare Payment Amount  \\\n",
       "Rndrng_Prvdr_State_Abrvtn                                    \n",
       "AK                                            25228.572857   \n",
       "AL                                            11467.334724   \n",
       "AR                                            11400.033975   \n",
       "AZ                                            13918.213643   \n",
       "CA                                            18551.898044   \n",
       "CO                                            14354.140980   \n",
       "CT                                            16317.390069   \n",
       "DC                                            17417.004482   \n",
       "DE                                            15998.810707   \n",
       "FL                                            12490.601582   \n",
       "GA                                            13417.113169   \n",
       "HI                                            18338.332547   \n",
       "IA                                            11868.364648   \n",
       "ID                                            13332.746681   \n",
       "IL                                            14077.645795   \n",
       "IN                                            12923.935806   \n",
       "KS                                            12933.048443   \n",
       "KY                                            11934.938838   \n",
       "LA                                            12360.689815   \n",
       "MA                                            15980.725683   \n",
       "MD                                            23730.463990   \n",
       "ME                                            15472.760854   \n",
       "MI                                            13692.565649   \n",
       "MN                                            14644.853680   \n",
       "MO                                            13476.036432   \n",
       "MS                                            12287.093797   \n",
       "MT                                            13484.281221   \n",
       "NC                                            12843.949276   \n",
       "ND                                            13084.964387   \n",
       "NE                                            13433.676910   \n",
       "NH                                            13495.716919   \n",
       "NJ                                            16205.332060   \n",
       "NM                                            14937.266726   \n",
       "NV                                            14912.615432   \n",
       "NY                                            18844.349033   \n",
       "OH                                            12870.058757   \n",
       "OK                                            12711.641299   \n",
       "OR                                            16255.354145   \n",
       "PA                                            12960.105290   \n",
       "RI                                            13086.735746   \n",
       "SC                                            12431.416652   \n",
       "SD                                            13844.514155   \n",
       "TN                                            11905.308375   \n",
       "TX                                            14369.547778   \n",
       "UT                                            12820.650754   \n",
       "VA                                            12758.860350   \n",
       "VT                                            11291.563609   \n",
       "WA                                            14803.782065   \n",
       "WI                                            12999.879538   \n",
       "WV                                            11914.597453   \n",
       "WY                                            18784.024759   \n",
       "\n",
       "                           Average Coverage (%)  \n",
       "Rndrng_Prvdr_State_Abrvtn                        \n",
       "AK                                    29.816972  \n",
       "AL                                    17.619802  \n",
       "AR                                    24.433700  \n",
       "AZ                                    16.622856  \n",
       "CA                                    16.204143  \n",
       "CO                                    17.182738  \n",
       "CT                                    30.727217  \n",
       "DC                                    17.954559  \n",
       "DE                                    28.961281  \n",
       "FL                                    12.783586  \n",
       "GA                                    20.546511  \n",
       "HI                                    30.859115  \n",
       "IA                                    29.083381  \n",
       "ID                                    24.164279  \n",
       "IL                                    21.177847  \n",
       "IN                                    23.677926  \n",
       "KS                                    23.129118  \n",
       "KY                                    21.770224  \n",
       "LA                                    23.088960  \n",
       "MA                                    43.470848  \n",
       "MD                                    86.936679  \n",
       "ME                                    36.711674  \n",
       "MI                                    30.905102  \n",
       "MN                                    33.736547  \n",
       "MO                                    22.525201  \n",
       "MS                                    19.516542  \n",
       "MT                                    31.920339  \n",
       "NC                                    27.272501  \n",
       "ND                                    29.722015  \n",
       "NE                                    24.817609  \n",
       "NH                                    25.533512  \n",
       "NJ                                    12.465429  \n",
       "NM                                    25.000672  \n",
       "NV                                    10.609844  \n",
       "NY                                    27.046179  \n",
       "OH                                    25.119665  \n",
       "OK                                    21.553230  \n",
       "OR                                    30.940425  \n",
       "PA                                    18.244497  \n",
       "RI                                    26.914223  \n",
       "SC                                    19.704380  \n",
       "SD                                    29.525600  \n",
       "TN                                    21.130896  \n",
       "TX                                    17.233132  \n",
       "UT                                    29.905202  \n",
       "VA                                    23.198224  \n",
       "VT                                    31.006667  \n",
       "WA                                    22.116911  \n",
       "WI                                    27.234055  \n",
       "WV                                    26.526244  \n",
       "WY                                    43.896374  "
      ]
     },
     "execution_count": 9,
     "metadata": {},
     "output_type": "execute_result"
    }
   ],
   "source": [
    "#Complication and co-morbidity (CC) or major CC (MCC)\n",
    "# SEPTICEMIA OR SEVERE SEPSIS WITHOUT MV >96 HOURS WITH MCC\n",
    "\n",
    "sep_mcc = medicare_data.loc[medicare_data[\"DRG_Desc\"]==\"SEPTICEMIA OR SEVERE SEPSIS WITHOUT MV >96 HOURS WITH MCC\"]\n",
    "\n",
    "#Cost summary\n",
    "mean_subm_chrg_sep_mcc = sep_mcc.groupby(\"Rndrng_Prvdr_State_Abrvtn\")[\"Avg_Submtd_Cvrd_Chrg\"].mean().sort_values(ascending=False)\n",
    "mean_tot_paymt_sep_mcc = sep_mcc.groupby(\"Rndrng_Prvdr_State_Abrvtn\")[\"Avg_Tot_Pymt_Amt\"].mean().sort_values(ascending=False)\n",
    "mean_med_paymt_sep_mcc = sep_mcc.groupby(\"Rndrng_Prvdr_State_Abrvtn\")[\"Avg_Mdcr_Pymt_Amt\"].mean().sort_values(ascending=False)\n",
    "average_cov = (mean_med_paymt_sep_mcc/mean_subm_chrg_sep_mcc)*100\n",
    "# med_submitted_charge = sep_mcc.groupby(\"Rndrng_Prvdr_State_Abrvtn\")[\"Avg_Submtd_Cvrd_Chrg\"].median()\n",
    "# var_submitted_charge = sep_mcc.groupby(\"Rndrng_Prvdr_State_Abrvtn\")[\"Avg_Submtd_Cvrd_Chrg\"].var()\n",
    "# sd_submitted_charge = sep_mcc.groupby(\"Rndrng_Prvdr_State_Abrvtn\")[\"Avg_Submtd_Cvrd_Chrg\"].std()\n",
    "# sem_submitted_charge = sep_mcc.groupby(\"Rndrng_Prvdr_State_Abrvtn\")[\"Avg_Submtd_Cvrd_Chrg\"].sem()\n",
    "\n",
    "cost_summary_sep_mcc = pd.DataFrame({\n",
    "\"Mean Submitted Covered Charge\": mean_subm_chrg_sep_mcc,\n",
    "\"Average Total Payment Amount\": mean_tot_paymt_sep_mcc,\n",
    "\"Average Medicare Payment Amount\": mean_med_paymt_sep_mcc,\n",
    "\"Average Coverage (%)\" : average_cov\n",
    "\n",
    "})\n",
    "cost_summary_sep_mcc\n"
   ]
  },
  {
   "cell_type": "code",
   "execution_count": 10,
   "metadata": {},
   "outputs": [
    {
     "data": {
      "image/png": "[encoded data removed]",
      "text/plain": [
       "<Figure size 640x480 with 1 Axes>"
      ]
     },
     "metadata": {},
     "output_type": "display_data"
    }
   ],
   "source": [
    "# Create a bar chart of % coverage by state \n",
    "height = average_cov.sort_values(ascending=False)\n",
    "\n",
    "plt.bar(x=height.index, height=height)\n",
    "plt.title(\"Percentage Medicare Coverage for Septicemia with Major Complication/Co-morbidity by State\")\n",
    "plt.xlabel(\"State\")\n",
    "plt.ylabel(\"Percentage (%)\")\n",
    "plt.xticks(rotation = 90)\n",
    "plt.tight_layout()\n",
    "plt.savefig(\"Chart4.png\")\n",
    "plt.show()"
   ]
  },
  {
   "cell_type": "code",
   "execution_count": 11,
   "metadata": {},
   "outputs": [],
   "source": [
    "#TEST PLOTLY\n"
   ]
  },
  {
   "cell_type": "code",
   "execution_count": 12,
   "metadata": {},
   "outputs": [
    {
     "data": {
      "image/png": "[encoded data removed]",
      "text/plain": [
       "<Figure size 640x480 with 1 Axes>"
      ]
     },
     "metadata": {},
     "output_type": "display_data"
    }
   ],
   "source": [
    "# Create a bar chart of total payments by state \n",
    "height = cost_summary_sep_mcc[\"Mean Submitted Covered Charge\"].sort_values(ascending=False)\n",
    "\n",
    "plt.bar(x=height.index, height=height)\n",
    "plt.title(\"Total Submitted Charge for Septicemia with Major Complication/Co-morbidity by State\")\n",
    "plt.xlabel(\"State\")\n",
    "plt.ylabel(\"Cost\")\n",
    "plt.xticks(rotation = 90)\n",
    "plt.tight_layout()\n",
    "plt.savefig(\"Chart3.png\")\n",
    "plt.show()"
   ]
  },
  {
   "cell_type": "code",
   "execution_count": null,
   "metadata": {},
   "outputs": [],
   "source": []
  },
  {
   "cell_type": "code",
   "execution_count": 13,
   "metadata": {},
   "outputs": [
    {
     "data": {
      "image/png": "[encoded data removed]",
      "text/plain": [
       "<Figure size 640x480 with 1 Axes>"
      ]
     },
     "metadata": {},
     "output_type": "display_data"
    }
   ],
   "source": [
    "# Create a bar chart of medicare payments by state \n",
    "height = cost_summary_sep_mcc[\"Average Medicare Payment Amount\"].sort_values(ascending=False)\n",
    "\n",
    "plt.bar(x=height.index, height=height)\n",
    "plt.title(\"Medicare Payment for Septicemia with Major Complication/Co-morbidity by State\")\n",
    "plt.xlabel(\"State\")\n",
    "plt.ylabel(\"Cost\")\n",
    "plt.xticks(rotation = 90)\n",
    "plt.tight_layout()\n",
    "plt.savefig(\"Chart.png\")\n",
    "plt.show()"
   ]
  },
  {
   "cell_type": "code",
   "execution_count": 14,
   "metadata": {},
   "outputs": [
    {
     "data": {
      "text/html": [
       "<div>\n",
       "<style scoped>\n",
       "    .dataframe tbody tr th:only-of-type {\n",
       "        vertical-align: middle;\n",
       "    }\n",
       "\n",
       "    .dataframe tbody tr th {\n",
       "        vertical-align: top;\n",
       "    }\n",
       "\n",
       "    .dataframe thead th {\n",
       "        text-align: right;\n",
       "    }\n",
       "</style>\n",
       "<table border=\"1\" class=\"dataframe\">\n",
       "  <thead>\n",
       "    <tr style=\"text-align: right;\">\n",
       "      <th></th>\n",
       "      <th>Mean Submitted Covered Charge</th>\n",
       "      <th>Average Total Payment Amount</th>\n",
       "      <th>Average Medicare Payment Amount</th>\n",
       "    </tr>\n",
       "    <tr>\n",
       "      <th>Rndrng_Prvdr_State_Abrvtn</th>\n",
       "      <th></th>\n",
       "      <th></th>\n",
       "      <th></th>\n",
       "    </tr>\n",
       "  </thead>\n",
       "  <tbody>\n",
       "    <tr>\n",
       "      <th>AK</th>\n",
       "      <td>57205.032628</td>\n",
       "      <td>13220.329022</td>\n",
       "      <td>11556.842367</td>\n",
       "    </tr>\n",
       "    <tr>\n",
       "      <th>AL</th>\n",
       "      <td>39761.379826</td>\n",
       "      <td>7754.657359</td>\n",
       "      <td>5755.933901</td>\n",
       "    </tr>\n",
       "    <tr>\n",
       "      <th>AR</th>\n",
       "      <td>26079.544720</td>\n",
       "      <td>6961.548592</td>\n",
       "      <td>5618.826287</td>\n",
       "    </tr>\n",
       "    <tr>\n",
       "      <th>AZ</th>\n",
       "      <td>45686.292307</td>\n",
       "      <td>8478.176307</td>\n",
       "      <td>6695.179165</td>\n",
       "    </tr>\n",
       "    <tr>\n",
       "      <th>CA</th>\n",
       "      <td>64239.051959</td>\n",
       "      <td>11384.972145</td>\n",
       "      <td>8896.876512</td>\n",
       "    </tr>\n",
       "    <tr>\n",
       "      <th>CO</th>\n",
       "      <td>49640.401837</td>\n",
       "      <td>8738.209222</td>\n",
       "      <td>6706.375726</td>\n",
       "    </tr>\n",
       "    <tr>\n",
       "      <th>CT</th>\n",
       "      <td>31136.077864</td>\n",
       "      <td>10096.485538</td>\n",
       "      <td>7762.660993</td>\n",
       "    </tr>\n",
       "    <tr>\n",
       "      <th>DC</th>\n",
       "      <td>49235.648604</td>\n",
       "      <td>11586.027624</td>\n",
       "      <td>7786.628341</td>\n",
       "    </tr>\n",
       "    <tr>\n",
       "      <th>DE</th>\n",
       "      <td>32209.798697</td>\n",
       "      <td>9022.817980</td>\n",
       "      <td>6771.355042</td>\n",
       "    </tr>\n",
       "    <tr>\n",
       "      <th>FL</th>\n",
       "      <td>57928.952145</td>\n",
       "      <td>8112.416890</td>\n",
       "      <td>6315.467976</td>\n",
       "    </tr>\n",
       "    <tr>\n",
       "      <th>GA</th>\n",
       "      <td>38315.064207</td>\n",
       "      <td>9171.305725</td>\n",
       "      <td>7033.865273</td>\n",
       "    </tr>\n",
       "    <tr>\n",
       "      <th>HI</th>\n",
       "      <td>34133.001501</td>\n",
       "      <td>12438.829921</td>\n",
       "      <td>8603.450025</td>\n",
       "    </tr>\n",
       "    <tr>\n",
       "      <th>IA</th>\n",
       "      <td>24699.197938</td>\n",
       "      <td>7275.701786</td>\n",
       "      <td>5792.520089</td>\n",
       "    </tr>\n",
       "    <tr>\n",
       "      <th>ID</th>\n",
       "      <td>31470.932562</td>\n",
       "      <td>8419.707373</td>\n",
       "      <td>6371.471572</td>\n",
       "    </tr>\n",
       "    <tr>\n",
       "      <th>IL</th>\n",
       "      <td>38277.778266</td>\n",
       "      <td>8634.323576</td>\n",
       "      <td>6457.839233</td>\n",
       "    </tr>\n",
       "    <tr>\n",
       "      <th>IN</th>\n",
       "      <td>33316.359539</td>\n",
       "      <td>8043.732588</td>\n",
       "      <td>6435.695710</td>\n",
       "    </tr>\n",
       "    <tr>\n",
       "      <th>KS</th>\n",
       "      <td>34057.182389</td>\n",
       "      <td>7863.032300</td>\n",
       "      <td>6104.825059</td>\n",
       "    </tr>\n",
       "    <tr>\n",
       "      <th>KY</th>\n",
       "      <td>33500.492536</td>\n",
       "      <td>7333.937720</td>\n",
       "      <td>5772.487714</td>\n",
       "    </tr>\n",
       "    <tr>\n",
       "      <th>LA</th>\n",
       "      <td>30248.122128</td>\n",
       "      <td>7584.050008</td>\n",
       "      <td>5982.991760</td>\n",
       "    </tr>\n",
       "    <tr>\n",
       "      <th>MA</th>\n",
       "      <td>21262.495885</td>\n",
       "      <td>9707.342219</td>\n",
       "      <td>8005.378058</td>\n",
       "    </tr>\n",
       "    <tr>\n",
       "      <th>MD</th>\n",
       "      <td>14384.527455</td>\n",
       "      <td>13360.465043</td>\n",
       "      <td>11744.033126</td>\n",
       "    </tr>\n",
       "    <tr>\n",
       "      <th>ME</th>\n",
       "      <td>25521.002915</td>\n",
       "      <td>9244.464211</td>\n",
       "      <td>7278.641034</td>\n",
       "    </tr>\n",
       "    <tr>\n",
       "      <th>MI</th>\n",
       "      <td>25105.325187</td>\n",
       "      <td>8422.690417</td>\n",
       "      <td>6559.411398</td>\n",
       "    </tr>\n",
       "    <tr>\n",
       "      <th>MN</th>\n",
       "      <td>26085.591154</td>\n",
       "      <td>9137.402853</td>\n",
       "      <td>7322.925023</td>\n",
       "    </tr>\n",
       "    <tr>\n",
       "      <th>MO</th>\n",
       "      <td>35438.238873</td>\n",
       "      <td>8071.746416</td>\n",
       "      <td>6543.786224</td>\n",
       "    </tr>\n",
       "    <tr>\n",
       "      <th>MS</th>\n",
       "      <td>35361.235828</td>\n",
       "      <td>7592.594543</td>\n",
       "      <td>6121.779133</td>\n",
       "    </tr>\n",
       "    <tr>\n",
       "      <th>MT</th>\n",
       "      <td>23806.756981</td>\n",
       "      <td>7778.971560</td>\n",
       "      <td>6346.313483</td>\n",
       "    </tr>\n",
       "    <tr>\n",
       "      <th>NC</th>\n",
       "      <td>29206.614181</td>\n",
       "      <td>8605.965780</td>\n",
       "      <td>6492.315976</td>\n",
       "    </tr>\n",
       "    <tr>\n",
       "      <th>ND</th>\n",
       "      <td>24309.359788</td>\n",
       "      <td>7708.401394</td>\n",
       "      <td>6253.170726</td>\n",
       "    </tr>\n",
       "    <tr>\n",
       "      <th>NE</th>\n",
       "      <td>30463.035492</td>\n",
       "      <td>8121.859433</td>\n",
       "      <td>6492.008446</td>\n",
       "    </tr>\n",
       "    <tr>\n",
       "      <th>NH</th>\n",
       "      <td>30571.989718</td>\n",
       "      <td>8294.650046</td>\n",
       "      <td>6628.484405</td>\n",
       "    </tr>\n",
       "    <tr>\n",
       "      <th>NJ</th>\n",
       "      <td>77750.471538</td>\n",
       "      <td>10314.640634</td>\n",
       "      <td>7963.917130</td>\n",
       "    </tr>\n",
       "    <tr>\n",
       "      <th>NM</th>\n",
       "      <td>37482.223854</td>\n",
       "      <td>9621.000487</td>\n",
       "      <td>7176.802111</td>\n",
       "    </tr>\n",
       "    <tr>\n",
       "      <th>NV</th>\n",
       "      <td>72744.122012</td>\n",
       "      <td>9055.905392</td>\n",
       "      <td>7096.442429</td>\n",
       "    </tr>\n",
       "    <tr>\n",
       "      <th>NY</th>\n",
       "      <td>41588.274753</td>\n",
       "      <td>11135.366537</td>\n",
       "      <td>8977.983590</td>\n",
       "    </tr>\n",
       "    <tr>\n",
       "      <th>OH</th>\n",
       "      <td>28418.455482</td>\n",
       "      <td>8374.758098</td>\n",
       "      <td>6229.273777</td>\n",
       "    </tr>\n",
       "    <tr>\n",
       "      <th>OK</th>\n",
       "      <td>32633.558997</td>\n",
       "      <td>8065.942653</td>\n",
       "      <td>6557.394881</td>\n",
       "    </tr>\n",
       "    <tr>\n",
       "      <th>OR</th>\n",
       "      <td>28234.046746</td>\n",
       "      <td>9892.223256</td>\n",
       "      <td>7645.134839</td>\n",
       "    </tr>\n",
       "    <tr>\n",
       "      <th>PA</th>\n",
       "      <td>43007.948847</td>\n",
       "      <td>8460.226369</td>\n",
       "      <td>6175.135158</td>\n",
       "    </tr>\n",
       "    <tr>\n",
       "      <th>RI</th>\n",
       "      <td>27598.809531</td>\n",
       "      <td>8222.125872</td>\n",
       "      <td>6449.209635</td>\n",
       "    </tr>\n",
       "    <tr>\n",
       "      <th>SC</th>\n",
       "      <td>36255.335879</td>\n",
       "      <td>8463.512303</td>\n",
       "      <td>6398.963024</td>\n",
       "    </tr>\n",
       "    <tr>\n",
       "      <th>SD</th>\n",
       "      <td>32585.304757</td>\n",
       "      <td>8215.550452</td>\n",
       "      <td>6816.807588</td>\n",
       "    </tr>\n",
       "    <tr>\n",
       "      <th>TN</th>\n",
       "      <td>33316.622210</td>\n",
       "      <td>7759.152693</td>\n",
       "      <td>5753.266965</td>\n",
       "    </tr>\n",
       "    <tr>\n",
       "      <th>TX</th>\n",
       "      <td>48896.141386</td>\n",
       "      <td>9280.507469</td>\n",
       "      <td>7442.313264</td>\n",
       "    </tr>\n",
       "    <tr>\n",
       "      <th>UT</th>\n",
       "      <td>25900.483613</td>\n",
       "      <td>8720.596144</td>\n",
       "      <td>7093.613019</td>\n",
       "    </tr>\n",
       "    <tr>\n",
       "      <th>VA</th>\n",
       "      <td>31934.464982</td>\n",
       "      <td>8380.148483</td>\n",
       "      <td>6275.533822</td>\n",
       "    </tr>\n",
       "    <tr>\n",
       "      <th>VT</th>\n",
       "      <td>21977.381740</td>\n",
       "      <td>6702.219407</td>\n",
       "      <td>5303.608418</td>\n",
       "    </tr>\n",
       "    <tr>\n",
       "      <th>WA</th>\n",
       "      <td>38875.934739</td>\n",
       "      <td>9272.166412</td>\n",
       "      <td>6908.751627</td>\n",
       "    </tr>\n",
       "    <tr>\n",
       "      <th>WI</th>\n",
       "      <td>28102.224157</td>\n",
       "      <td>8013.543257</td>\n",
       "      <td>6236.100307</td>\n",
       "    </tr>\n",
       "    <tr>\n",
       "      <th>WV</th>\n",
       "      <td>26366.685839</td>\n",
       "      <td>7779.887644</td>\n",
       "      <td>5845.303991</td>\n",
       "    </tr>\n",
       "    <tr>\n",
       "      <th>WY</th>\n",
       "      <td>28641.346876</td>\n",
       "      <td>10446.394177</td>\n",
       "      <td>8760.845830</td>\n",
       "    </tr>\n",
       "  </tbody>\n",
       "</table>\n",
       "</div>"
      ],
      "text/plain": [
       "                           Mean Submitted Covered Charge  \\\n",
       "Rndrng_Prvdr_State_Abrvtn                                  \n",
       "AK                                          57205.032628   \n",
       "AL                                          39761.379826   \n",
       "AR                                          26079.544720   \n",
       "AZ                                          45686.292307   \n",
       "CA                                          64239.051959   \n",
       "CO                                          49640.401837   \n",
       "CT                                          31136.077864   \n",
       "DC                                          49235.648604   \n",
       "DE                                          32209.798697   \n",
       "FL                                          57928.952145   \n",
       "GA                                          38315.064207   \n",
       "HI                                          34133.001501   \n",
       "IA                                          24699.197938   \n",
       "ID                                          31470.932562   \n",
       "IL                                          38277.778266   \n",
       "IN                                          33316.359539   \n",
       "KS                                          34057.182389   \n",
       "KY                                          33500.492536   \n",
       "LA                                          30248.122128   \n",
       "MA                                          21262.495885   \n",
       "MD                                          14384.527455   \n",
       "ME                                          25521.002915   \n",
       "MI                                          25105.325187   \n",
       "MN                                          26085.591154   \n",
       "MO                                          35438.238873   \n",
       "MS                                          35361.235828   \n",
       "MT                                          23806.756981   \n",
       "NC                                          29206.614181   \n",
       "ND                                          24309.359788   \n",
       "NE                                          30463.035492   \n",
       "NH                                          30571.989718   \n",
       "NJ                                          77750.471538   \n",
       "NM                                          37482.223854   \n",
       "NV                                          72744.122012   \n",
       "NY                                          41588.274753   \n",
       "OH                                          28418.455482   \n",
       "OK                                          32633.558997   \n",
       "OR                                          28234.046746   \n",
       "PA                                          43007.948847   \n",
       "RI                                          27598.809531   \n",
       "SC                                          36255.335879   \n",
       "SD                                          32585.304757   \n",
       "TN                                          33316.622210   \n",
       "TX                                          48896.141386   \n",
       "UT                                          25900.483613   \n",
       "VA                                          31934.464982   \n",
       "VT                                          21977.381740   \n",
       "WA                                          38875.934739   \n",
       "WI                                          28102.224157   \n",
       "WV                                          26366.685839   \n",
       "WY                                          28641.346876   \n",
       "\n",
       "                           Average Total Payment Amount  \\\n",
       "Rndrng_Prvdr_State_Abrvtn                                 \n",
       "AK                                         13220.329022   \n",
       "AL                                          7754.657359   \n",
       "AR                                          6961.548592   \n",
       "AZ                                          8478.176307   \n",
       "CA                                         11384.972145   \n",
       "CO                                          8738.209222   \n",
       "CT                                         10096.485538   \n",
       "DC                                         11586.027624   \n",
       "DE                                          9022.817980   \n",
       "FL                                          8112.416890   \n",
       "GA                                          9171.305725   \n",
       "HI                                         12438.829921   \n",
       "IA                                          7275.701786   \n",
       "ID                                          8419.707373   \n",
       "IL                                          8634.323576   \n",
       "IN                                          8043.732588   \n",
       "KS                                          7863.032300   \n",
       "KY                                          7333.937720   \n",
       "LA                                          7584.050008   \n",
       "MA                                          9707.342219   \n",
       "MD                                         13360.465043   \n",
       "ME                                          9244.464211   \n",
       "MI                                          8422.690417   \n",
       "MN                                          9137.402853   \n",
       "MO                                          8071.746416   \n",
       "MS                                          7592.594543   \n",
       "MT                                          7778.971560   \n",
       "NC                                          8605.965780   \n",
       "ND                                          7708.401394   \n",
       "NE                                          8121.859433   \n",
       "NH                                          8294.650046   \n",
       "NJ                                         10314.640634   \n",
       "NM                                          9621.000487   \n",
       "NV                                          9055.905392   \n",
       "NY                                         11135.366537   \n",
       "OH                                          8374.758098   \n",
       "OK                                          8065.942653   \n",
       "OR                                          9892.223256   \n",
       "PA                                          8460.226369   \n",
       "RI                                          8222.125872   \n",
       "SC                                          8463.512303   \n",
       "SD                                          8215.550452   \n",
       "TN                                          7759.152693   \n",
       "TX                                          9280.507469   \n",
       "UT                                          8720.596144   \n",
       "VA                                          8380.148483   \n",
       "VT                                          6702.219407   \n",
       "WA                                          9272.166412   \n",
       "WI                                          8013.543257   \n",
       "WV                                          7779.887644   \n",
       "WY                                         10446.394177   \n",
       "\n",
       "                           Average Medicare Payment Amount  \n",
       "Rndrng_Prvdr_State_Abrvtn                                   \n",
       "AK                                            11556.842367  \n",
       "AL                                             5755.933901  \n",
       "AR                                             5618.826287  \n",
       "AZ                                             6695.179165  \n",
       "CA                                             8896.876512  \n",
       "CO                                             6706.375726  \n",
       "CT                                             7762.660993  \n",
       "DC                                             7786.628341  \n",
       "DE                                             6771.355042  \n",
       "FL                                             6315.467976  \n",
       "GA                                             7033.865273  \n",
       "HI                                             8603.450025  \n",
       "IA                                             5792.520089  \n",
       "ID                                             6371.471572  \n",
       "IL                                             6457.839233  \n",
       "IN                                             6435.695710  \n",
       "KS                                             6104.825059  \n",
       "KY                                             5772.487714  \n",
       "LA                                             5982.991760  \n",
       "MA                                             8005.378058  \n",
       "MD                                            11744.033126  \n",
       "ME                                             7278.641034  \n",
       "MI                                             6559.411398  \n",
       "MN                                             7322.925023  \n",
       "MO                                             6543.786224  \n",
       "MS                                             6121.779133  \n",
       "MT                                             6346.313483  \n",
       "NC                                             6492.315976  \n",
       "ND                                             6253.170726  \n",
       "NE                                             6492.008446  \n",
       "NH                                             6628.484405  \n",
       "NJ                                             7963.917130  \n",
       "NM                                             7176.802111  \n",
       "NV                                             7096.442429  \n",
       "NY                                             8977.983590  \n",
       "OH                                             6229.273777  \n",
       "OK                                             6557.394881  \n",
       "OR                                             7645.134839  \n",
       "PA                                             6175.135158  \n",
       "RI                                             6449.209635  \n",
       "SC                                             6398.963024  \n",
       "SD                                             6816.807588  \n",
       "TN                                             5753.266965  \n",
       "TX                                             7442.313264  \n",
       "UT                                             7093.613019  \n",
       "VA                                             6275.533822  \n",
       "VT                                             5303.608418  \n",
       "WA                                             6908.751627  \n",
       "WI                                             6236.100307  \n",
       "WV                                             5845.303991  \n",
       "WY                                             8760.845830  "
      ]
     },
     "execution_count": 14,
     "metadata": {},
     "output_type": "execute_result"
    }
   ],
   "source": [
    "\n",
    "\n",
    "\n",
    "\n",
    "# SEPTICEMIA OR SEVERE SEPSIS WITHOUT MV >96 HOURS WITHOUT MCC\n",
    "sep = medicare_data.loc[medicare_data[\"DRG_Desc\"]==\"SEPTICEMIA OR SEVERE SEPSIS WITHOUT MV >96 HOURS WITHOUT MCC\"]\n",
    "\n",
    "#Cost summary\n",
    "mean_subm_chrg_sep = sep.groupby(\"Rndrng_Prvdr_State_Abrvtn\")[\"Avg_Submtd_Cvrd_Chrg\"].mean().sort_values(ascending=False)\n",
    "mean_tot_paymt_sep = sep.groupby(\"Rndrng_Prvdr_State_Abrvtn\")[\"Avg_Tot_Pymt_Amt\"].mean().sort_values(ascending=False)\n",
    "mean_med_paymt_sep = sep.groupby(\"Rndrng_Prvdr_State_Abrvtn\")[\"Avg_Mdcr_Pymt_Amt\"].mean().sort_values(ascending=False)\n",
    "# med_submitted_charge = sep.groupby(\"Rndrng_Prvdr_State_Abrvtn\")[\"Avg_Submtd_Cvrd_Chrg\"].median()\n",
    "# var_submitted_charge = sep.groupby(\"Rndrng_Prvdr_State_Abrvtn\")[\"Avg_Submtd_Cvrd_Chrg\"].var()\n",
    "# sd_submitted_charge = sep.groupby(\"Rndrng_Prvdr_State_Abrvtn\")[\"Avg_Submtd_Cvrd_Chrg\"].std()\n",
    "# sem_submitted_charge = sep.groupby(\"Rndrng_Prvdr_State_Abrvtn\")[\"Avg_Submtd_Cvrd_Chrg\"].sem()\n",
    "\n",
    "cost_summary_sep = pd.DataFrame({\n",
    "\"Mean Submitted Covered Charge\": mean_subm_chrg_sep,\n",
    "\"Average Total Payment Amount\": mean_tot_paymt_sep,\n",
    "\"Average Medicare Payment Amount\": mean_med_paymt_sep\n",
    "\n",
    "})\n",
    "cost_summary_sep"
   ]
  },
  {
   "cell_type": "code",
   "execution_count": 15,
   "metadata": {},
   "outputs": [
    {
     "data": {
      "image/png": "[encoded data removed]",
      "text/plain": [
       "<Figure size 640x480 with 1 Axes>"
      ]
     },
     "metadata": {},
     "output_type": "display_data"
    }
   ],
   "source": [
    "# Create a bar chart of medicare payments by state\n",
    "height = cost_summary_sep[\"Average Medicare Payment Amount\"].sort_values(ascending=False)\n",
    "\n",
    "plt.bar(x=height.index, height=height)\n",
    "plt.title(\"Medicare Payment for Septicemia without Major Complication/Co-morbidity by State\")\n",
    "plt.xlabel(\"State\")\n",
    "plt.ylabel(\"Cost\")\n",
    "plt.xticks(rotation = 90)\n",
    "plt.savefig(\"Chart2.png\")\n",
    "plt.show()\n"
   ]
  },
  {
   "cell_type": "code",
   "execution_count": 16,
   "metadata": {},
   "outputs": [],
   "source": [
    "#Create dataset with only top 5 diagnoses by 5 selected states (selected states dataset exists below)\n",
    "#create a list of top 5 diagnoses (from value counts)\n",
    "#.loc = list \n"
   ]
  },
  {
   "cell_type": "code",
   "execution_count": 17,
   "metadata": {},
   "outputs": [
    {
     "data": {
      "text/plain": [
       "98457     2650\n",
       "25387     2431\n",
       "97129     2141\n",
       "19858     1917\n",
       "133139    1426\n",
       "Name: Tot_Dschrgs, dtype: int64"
      ]
     },
     "execution_count": 17,
     "metadata": {},
     "output_type": "execute_result"
    }
   ],
   "source": [
    "#Narrow down to 5 states with highest discharge rates (Ved to merge changes)   \n",
    "#pie charts \n",
    "\n"
   ]
  },
  {
   "cell_type": "markdown",
   "metadata": {},
   "source": [
    "## Summary Statistics"
   ]
  },
  {
   "cell_type": "code",
   "execution_count": 45,
   "metadata": {},
   "outputs": [
    {
     "data": {
      "text/html": [
       "<div>\n",
       "<style scoped>\n",
       "    .dataframe tbody tr th:only-of-type {\n",
       "        vertical-align: middle;\n",
       "    }\n",
       "\n",
       "    .dataframe tbody tr th {\n",
       "        vertical-align: top;\n",
       "    }\n",
       "\n",
       "    .dataframe thead th {\n",
       "        text-align: right;\n",
       "    }\n",
       "</style>\n",
       "<table border=\"1\" class=\"dataframe\">\n",
       "  <thead>\n",
       "    <tr style=\"text-align: right;\">\n",
       "      <th></th>\n",
       "      <th>Mean Submitted Covered Charge</th>\n",
       "      <th>Average Total Payment Amount</th>\n",
       "      <th>Average Medicare Payment Amount</th>\n",
       "    </tr>\n",
       "    <tr>\n",
       "      <th>DRG_Desc</th>\n",
       "      <th></th>\n",
       "      <th></th>\n",
       "      <th></th>\n",
       "    </tr>\n",
       "  </thead>\n",
       "  <tbody>\n",
       "    <tr>\n",
       "      <th>ACUTE ADJUSTMENT REACTION AND PSYCHOSOCIAL DYSFUNCTION</th>\n",
       "      <td>38587.133562</td>\n",
       "      <td>9176.613532</td>\n",
       "      <td>7090.757248</td>\n",
       "    </tr>\n",
       "    <tr>\n",
       "      <th>ACUTE LEUKEMIA WITHOUT MAJOR O.R. PROCEDURES WITH CC</th>\n",
       "      <td>176134.324980</td>\n",
       "      <td>43756.518649</td>\n",
       "      <td>36612.054830</td>\n",
       "    </tr>\n",
       "    <tr>\n",
       "      <th>ACUTE LEUKEMIA WITHOUT MAJOR O.R. PROCEDURES WITH MCC</th>\n",
       "      <td>290570.065138</td>\n",
       "      <td>75755.401750</td>\n",
       "      <td>62477.587568</td>\n",
       "    </tr>\n",
       "    <tr>\n",
       "      <th>ACUTE MYOCARDIAL INFARCTION, DISCHARGED ALIVE WITH CC</th>\n",
       "      <td>44073.373635</td>\n",
       "      <td>8169.625116</td>\n",
       "      <td>6337.910304</td>\n",
       "    </tr>\n",
       "    <tr>\n",
       "      <th>ACUTE MYOCARDIAL INFARCTION, DISCHARGED ALIVE WITH MCC</th>\n",
       "      <td>64161.739085</td>\n",
       "      <td>13769.685930</td>\n",
       "      <td>11796.373274</td>\n",
       "    </tr>\n",
       "    <tr>\n",
       "      <th>...</th>\n",
       "      <td>...</td>\n",
       "      <td>...</td>\n",
       "      <td>...</td>\n",
       "    </tr>\n",
       "    <tr>\n",
       "      <th>VENTRICULAR SHUNT PROCEDURES WITHOUT CC/MCC</th>\n",
       "      <td>72615.008298</td>\n",
       "      <td>16324.271218</td>\n",
       "      <td>13772.101823</td>\n",
       "    </tr>\n",
       "    <tr>\n",
       "      <th>VIRAL ILLNESS WITH MCC</th>\n",
       "      <td>110632.609540</td>\n",
       "      <td>20604.250106</td>\n",
       "      <td>16093.911222</td>\n",
       "    </tr>\n",
       "    <tr>\n",
       "      <th>VIRAL ILLNESS WITHOUT MCC</th>\n",
       "      <td>50115.627829</td>\n",
       "      <td>11349.739920</td>\n",
       "      <td>7593.582113</td>\n",
       "    </tr>\n",
       "    <tr>\n",
       "      <th>WOUND DEBRIDEMENT AND SKIN GRAFT EXCEPT HAND FOR MUSCULOSKELETAL AND CONNECTIVE TISSUE D</th>\n",
       "      <td>180775.071500</td>\n",
       "      <td>38271.774140</td>\n",
       "      <td>31138.333760</td>\n",
       "    </tr>\n",
       "    <tr>\n",
       "      <th>WOUND DEBRIDEMENTS FOR INJURIES WITH CC</th>\n",
       "      <td>114304.711433</td>\n",
       "      <td>24543.338110</td>\n",
       "      <td>19379.597660</td>\n",
       "    </tr>\n",
       "  </tbody>\n",
       "</table>\n",
       "<p>524 rows × 3 columns</p>\n",
       "</div>"
      ],
      "text/plain": [
       "                                                    Mean Submitted Covered Charge  \\\n",
       "DRG_Desc                                                                            \n",
       "ACUTE ADJUSTMENT REACTION AND PSYCHOSOCIAL DYSF...                   38587.133562   \n",
       "ACUTE LEUKEMIA WITHOUT MAJOR O.R. PROCEDURES WI...                  176134.324980   \n",
       "ACUTE LEUKEMIA WITHOUT MAJOR O.R. PROCEDURES WI...                  290570.065138   \n",
       "ACUTE MYOCARDIAL INFARCTION, DISCHARGED ALIVE W...                   44073.373635   \n",
       "ACUTE MYOCARDIAL INFARCTION, DISCHARGED ALIVE W...                   64161.739085   \n",
       "...                                                                           ...   \n",
       "VENTRICULAR SHUNT PROCEDURES WITHOUT CC/MCC                          72615.008298   \n",
       "VIRAL ILLNESS WITH MCC                                              110632.609540   \n",
       "VIRAL ILLNESS WITHOUT MCC                                            50115.627829   \n",
       "WOUND DEBRIDEMENT AND SKIN GRAFT EXCEPT HAND FO...                  180775.071500   \n",
       "WOUND DEBRIDEMENTS FOR INJURIES WITH CC                             114304.711433   \n",
       "\n",
       "                                                    Average Total Payment Amount  \\\n",
       "DRG_Desc                                                                           \n",
       "ACUTE ADJUSTMENT REACTION AND PSYCHOSOCIAL DYSF...                   9176.613532   \n",
       "ACUTE LEUKEMIA WITHOUT MAJOR O.R. PROCEDURES WI...                  43756.518649   \n",
       "ACUTE LEUKEMIA WITHOUT MAJOR O.R. PROCEDURES WI...                  75755.401750   \n",
       "ACUTE MYOCARDIAL INFARCTION, DISCHARGED ALIVE W...                   8169.625116   \n",
       "ACUTE MYOCARDIAL INFARCTION, DISCHARGED ALIVE W...                  13769.685930   \n",
       "...                                                                          ...   \n",
       "VENTRICULAR SHUNT PROCEDURES WITHOUT CC/MCC                         16324.271218   \n",
       "VIRAL ILLNESS WITH MCC                                              20604.250106   \n",
       "VIRAL ILLNESS WITHOUT MCC                                           11349.739920   \n",
       "WOUND DEBRIDEMENT AND SKIN GRAFT EXCEPT HAND FO...                  38271.774140   \n",
       "WOUND DEBRIDEMENTS FOR INJURIES WITH CC                             24543.338110   \n",
       "\n",
       "                                                    Average Medicare Payment Amount  \n",
       "DRG_Desc                                                                             \n",
       "ACUTE ADJUSTMENT REACTION AND PSYCHOSOCIAL DYSF...                      7090.757248  \n",
       "ACUTE LEUKEMIA WITHOUT MAJOR O.R. PROCEDURES WI...                     36612.054830  \n",
       "ACUTE LEUKEMIA WITHOUT MAJOR O.R. PROCEDURES WI...                     62477.587568  \n",
       "ACUTE MYOCARDIAL INFARCTION, DISCHARGED ALIVE W...                      6337.910304  \n",
       "ACUTE MYOCARDIAL INFARCTION, DISCHARGED ALIVE W...                     11796.373274  \n",
       "...                                                                             ...  \n",
       "VENTRICULAR SHUNT PROCEDURES WITHOUT CC/MCC                            13772.101823  \n",
       "VIRAL ILLNESS WITH MCC                                                 16093.911222  \n",
       "VIRAL ILLNESS WITHOUT MCC                                               7593.582113  \n",
       "WOUND DEBRIDEMENT AND SKIN GRAFT EXCEPT HAND FO...                     31138.333760  \n",
       "WOUND DEBRIDEMENTS FOR INJURIES WITH CC                                19379.597660  \n",
       "\n",
       "[524 rows x 3 columns]"
      ]
     },
     "execution_count": 45,
     "metadata": {},
     "output_type": "execute_result"
    }
   ],
   "source": [
    "# Generate a summary statistics table of mean, median, variance, standard deviation, and SEM of the costs for each DRG\n",
    "\n",
    "# Use groupby and summary statistical methods to calculate the following properties of each DRG: \n",
    "# mean, median, variance, standard deviation, and SEM of payment (Avg_Submtd_Cvrd_Chrg, Avg_Tot_Pymt_Amt, Avg_Mdcr_Pymt_Amt). \n",
    "# Assemble the resulting series into a single summary DataFrame.\n",
    "\n",
    "#National avergages that can be used for comparison to state averages \n",
    "\n",
    "mean_submitted_charge = medicare_data.groupby(\"DRG_Desc\")[\"Avg_Submtd_Cvrd_Chrg\"].mean().sort_values(ascending=False)\n",
    "mean_tot_paymt = medicare_data.groupby(\"DRG_Desc\")[\"Avg_Tot_Pymt_Amt\"].mean().sort_values(ascending=False)\n",
    "mean_med_paymt = medicare_data.groupby(\"DRG_Desc\")[\"Avg_Mdcr_Pymt_Amt\"].mean().sort_values(ascending=False)\n",
    "# med_submitted_charge = medicare_data.groupby(\"DRG_Desc\")[\"Avg_Submtd_Cvrd_Chrg\"].median()\n",
    "# var_submitted_charge = medicare_data.groupby(\"DRG_Desc\")[\"Avg_Submtd_Cvrd_Chrg\"].var()\n",
    "# sd_submitted_charge = medicare_data.groupby(\"DRG_Desc\")[\"Avg_Submtd_Cvrd_Chrg\"].std()\n",
    "# sem_submitted_charge = medicare_data.groupby(\"DRG_Desc\")[\"Avg_Submtd_Cvrd_Chrg\"].sem()\n",
    "\n",
    "cost_summary = pd.DataFrame({\n",
    "\"Mean Submitted Covered Charge\": mean_submitted_charge,\n",
    "\"Average Total Payment Amount\": mean_tot_paymt,\n",
    "\"Average Medicare Payment Amount\": mean_med_paymt\n",
    "\n",
    "})\n",
    "\n",
    "\n",
    "cost_summary\n"
   ]
  },
  {
   "cell_type": "code",
   "execution_count": null,
   "metadata": {},
   "outputs": [],
   "source": [
    "\n"
   ]
  },
  {
   "cell_type": "markdown",
   "metadata": {},
   "source": [
    "## Bar and Pie Charts"
   ]
  },
  {
   "cell_type": "code",
   "execution_count": 46,
   "metadata": {},
   "outputs": [
    {
     "data": {
      "text/html": [
       "<div>\n",
       "<style scoped>\n",
       "    .dataframe tbody tr th:only-of-type {\n",
       "        vertical-align: middle;\n",
       "    }\n",
       "\n",
       "    .dataframe tbody tr th {\n",
       "        vertical-align: top;\n",
       "    }\n",
       "\n",
       "    .dataframe thead th {\n",
       "        text-align: right;\n",
       "    }\n",
       "</style>\n",
       "<table border=\"1\" class=\"dataframe\">\n",
       "  <thead>\n",
       "    <tr style=\"text-align: right;\">\n",
       "      <th></th>\n",
       "      <th>Rndrng_Prvdr_CCN</th>\n",
       "      <th>Rndrng_Prvdr_Org_Name</th>\n",
       "      <th>Rndrng_Prvdr_City</th>\n",
       "      <th>Rndrng_Prvdr_St</th>\n",
       "      <th>Rndrng_Prvdr_State_FIPS</th>\n",
       "      <th>Rndrng_Prvdr_Zip5</th>\n",
       "      <th>Rndrng_Prvdr_State_Abrvtn</th>\n",
       "      <th>Rndrng_Prvdr_RUCA</th>\n",
       "      <th>Rndrng_Prvdr_RUCA_Desc</th>\n",
       "      <th>DRG_Cd</th>\n",
       "      <th>DRG_Desc</th>\n",
       "      <th>Tot_Dschrgs</th>\n",
       "      <th>Avg_Submtd_Cvrd_Chrg</th>\n",
       "      <th>Avg_Tot_Pymt_Amt</th>\n",
       "      <th>Avg_Mdcr_Pymt_Amt</th>\n",
       "    </tr>\n",
       "  </thead>\n",
       "  <tbody>\n",
       "    <tr>\n",
       "      <th>7568</th>\n",
       "      <td>50002</td>\n",
       "      <td>St Rose Hospital</td>\n",
       "      <td>Hayward</td>\n",
       "      <td>27200 Calaroga Ave</td>\n",
       "      <td>6</td>\n",
       "      <td>94545</td>\n",
       "      <td>CA</td>\n",
       "      <td>1.0</td>\n",
       "      <td>Metropolitan area core: primary flow within an...</td>\n",
       "      <td>177</td>\n",
       "      <td>RESPIRATORY INFECTIONS AND INFLAMMATIONS WITH MCC</td>\n",
       "      <td>39</td>\n",
       "      <td>137791.79490</td>\n",
       "      <td>22175.82051</td>\n",
       "      <td>21103.051280</td>\n",
       "    </tr>\n",
       "    <tr>\n",
       "      <th>7569</th>\n",
       "      <td>50002</td>\n",
       "      <td>St Rose Hospital</td>\n",
       "      <td>Hayward</td>\n",
       "      <td>27200 Calaroga Ave</td>\n",
       "      <td>6</td>\n",
       "      <td>94545</td>\n",
       "      <td>CA</td>\n",
       "      <td>1.0</td>\n",
       "      <td>Metropolitan area core: primary flow within an...</td>\n",
       "      <td>189</td>\n",
       "      <td>PULMONARY EDEMA AND RESPIRATORY FAILURE</td>\n",
       "      <td>29</td>\n",
       "      <td>106855.27590</td>\n",
       "      <td>16050.62069</td>\n",
       "      <td>15234.517240</td>\n",
       "    </tr>\n",
       "    <tr>\n",
       "      <th>7570</th>\n",
       "      <td>50002</td>\n",
       "      <td>St Rose Hospital</td>\n",
       "      <td>Hayward</td>\n",
       "      <td>27200 Calaroga Ave</td>\n",
       "      <td>6</td>\n",
       "      <td>94545</td>\n",
       "      <td>CA</td>\n",
       "      <td>1.0</td>\n",
       "      <td>Metropolitan area core: primary flow within an...</td>\n",
       "      <td>190</td>\n",
       "      <td>CHRONIC OBSTRUCTIVE PULMONARY DISEASE WITH MCC</td>\n",
       "      <td>17</td>\n",
       "      <td>87466.29412</td>\n",
       "      <td>11918.58824</td>\n",
       "      <td>11307.529410</td>\n",
       "    </tr>\n",
       "    <tr>\n",
       "      <th>7571</th>\n",
       "      <td>50002</td>\n",
       "      <td>St Rose Hospital</td>\n",
       "      <td>Hayward</td>\n",
       "      <td>27200 Calaroga Ave</td>\n",
       "      <td>6</td>\n",
       "      <td>94545</td>\n",
       "      <td>CA</td>\n",
       "      <td>1.0</td>\n",
       "      <td>Metropolitan area core: primary flow within an...</td>\n",
       "      <td>194</td>\n",
       "      <td>SIMPLE PNEUMONIA AND PLEURISY WITH CC</td>\n",
       "      <td>12</td>\n",
       "      <td>74004.50000</td>\n",
       "      <td>9401.25000</td>\n",
       "      <td>8418.166667</td>\n",
       "    </tr>\n",
       "    <tr>\n",
       "      <th>7572</th>\n",
       "      <td>50002</td>\n",
       "      <td>St Rose Hospital</td>\n",
       "      <td>Hayward</td>\n",
       "      <td>27200 Calaroga Ave</td>\n",
       "      <td>6</td>\n",
       "      <td>94545</td>\n",
       "      <td>CA</td>\n",
       "      <td>1.0</td>\n",
       "      <td>Metropolitan area core: primary flow within an...</td>\n",
       "      <td>207</td>\n",
       "      <td>RESPIRATORY SYSTEM DIAGNOSIS WITH VENTILATOR S...</td>\n",
       "      <td>11</td>\n",
       "      <td>526444.72730</td>\n",
       "      <td>91711.45455</td>\n",
       "      <td>89971.363640</td>\n",
       "    </tr>\n",
       "  </tbody>\n",
       "</table>\n",
       "</div>"
      ],
      "text/plain": [
       "      Rndrng_Prvdr_CCN Rndrng_Prvdr_Org_Name Rndrng_Prvdr_City  \\\n",
       "7568             50002      St Rose Hospital           Hayward   \n",
       "7569             50002      St Rose Hospital           Hayward   \n",
       "7570             50002      St Rose Hospital           Hayward   \n",
       "7571             50002      St Rose Hospital           Hayward   \n",
       "7572             50002      St Rose Hospital           Hayward   \n",
       "\n",
       "         Rndrng_Prvdr_St  Rndrng_Prvdr_State_FIPS  Rndrng_Prvdr_Zip5  \\\n",
       "7568  27200 Calaroga Ave                        6              94545   \n",
       "7569  27200 Calaroga Ave                        6              94545   \n",
       "7570  27200 Calaroga Ave                        6              94545   \n",
       "7571  27200 Calaroga Ave                        6              94545   \n",
       "7572  27200 Calaroga Ave                        6              94545   \n",
       "\n",
       "     Rndrng_Prvdr_State_Abrvtn  Rndrng_Prvdr_RUCA  \\\n",
       "7568                        CA                1.0   \n",
       "7569                        CA                1.0   \n",
       "7570                        CA                1.0   \n",
       "7571                        CA                1.0   \n",
       "7572                        CA                1.0   \n",
       "\n",
       "                                 Rndrng_Prvdr_RUCA_Desc  DRG_Cd  \\\n",
       "7568  Metropolitan area core: primary flow within an...     177   \n",
       "7569  Metropolitan area core: primary flow within an...     189   \n",
       "7570  Metropolitan area core: primary flow within an...     190   \n",
       "7571  Metropolitan area core: primary flow within an...     194   \n",
       "7572  Metropolitan area core: primary flow within an...     207   \n",
       "\n",
       "                                               DRG_Desc  Tot_Dschrgs  \\\n",
       "7568  RESPIRATORY INFECTIONS AND INFLAMMATIONS WITH MCC           39   \n",
       "7569            PULMONARY EDEMA AND RESPIRATORY FAILURE           29   \n",
       "7570     CHRONIC OBSTRUCTIVE PULMONARY DISEASE WITH MCC           17   \n",
       "7571              SIMPLE PNEUMONIA AND PLEURISY WITH CC           12   \n",
       "7572  RESPIRATORY SYSTEM DIAGNOSIS WITH VENTILATOR S...           11   \n",
       "\n",
       "      Avg_Submtd_Cvrd_Chrg  Avg_Tot_Pymt_Amt  Avg_Mdcr_Pymt_Amt  \n",
       "7568          137791.79490       22175.82051       21103.051280  \n",
       "7569          106855.27590       16050.62069       15234.517240  \n",
       "7570           87466.29412       11918.58824       11307.529410  \n",
       "7571           74004.50000        9401.25000        8418.166667  \n",
       "7572          526444.72730       91711.45455       89971.363640  "
      ]
     },
     "execution_count": 46,
     "metadata": {},
     "output_type": "execute_result"
    }
   ],
   "source": [
    "#Create dataset for 5 states of interest (states with highest discharge rates): PA, NY, CA, TX, FL\n",
    "\n",
    "selected_states = [\"PA\", \"CA\", \"NY\", \"FL\", \"TX\"]\n",
    "top_states = medicare_data[medicare_data[\"Rndrng_Prvdr_State_Abrvtn\"].isin(selected_states)]\n",
    "top_states.head()\n",
    "\n"
   ]
  },
  {
   "cell_type": "code",
   "execution_count": 47,
   "metadata": {},
   "outputs": [
    {
     "data": {
      "text/html": [
       "<div>\n",
       "<style scoped>\n",
       "    .dataframe tbody tr th:only-of-type {\n",
       "        vertical-align: middle;\n",
       "    }\n",
       "\n",
       "    .dataframe tbody tr th {\n",
       "        vertical-align: top;\n",
       "    }\n",
       "\n",
       "    .dataframe thead th {\n",
       "        text-align: right;\n",
       "    }\n",
       "</style>\n",
       "<table border=\"1\" class=\"dataframe\">\n",
       "  <thead>\n",
       "    <tr style=\"text-align: right;\">\n",
       "      <th></th>\n",
       "      <th>Mean Submitted Covered Charge</th>\n",
       "      <th>Average Total Payment Amount</th>\n",
       "      <th>Average Medicare Payment Amount</th>\n",
       "      <th>Medicare Percentage Covered</th>\n",
       "    </tr>\n",
       "    <tr>\n",
       "      <th>Rndrng_Prvdr_State_Abrvtn</th>\n",
       "      <th></th>\n",
       "      <th></th>\n",
       "      <th></th>\n",
       "      <th></th>\n",
       "    </tr>\n",
       "  </thead>\n",
       "  <tbody>\n",
       "    <tr>\n",
       "      <th>CA</th>\n",
       "      <td>64239.051959</td>\n",
       "      <td>11384.972145</td>\n",
       "      <td>8896.876512</td>\n",
       "      <td>13.849639</td>\n",
       "    </tr>\n",
       "    <tr>\n",
       "      <th>FL</th>\n",
       "      <td>57928.952145</td>\n",
       "      <td>8112.416890</td>\n",
       "      <td>6315.467976</td>\n",
       "      <td>10.902093</td>\n",
       "    </tr>\n",
       "    <tr>\n",
       "      <th>NY</th>\n",
       "      <td>41588.274753</td>\n",
       "      <td>11135.366537</td>\n",
       "      <td>8977.983590</td>\n",
       "      <td>21.587776</td>\n",
       "    </tr>\n",
       "    <tr>\n",
       "      <th>PA</th>\n",
       "      <td>43007.948847</td>\n",
       "      <td>8460.226369</td>\n",
       "      <td>6175.135158</td>\n",
       "      <td>14.358125</td>\n",
       "    </tr>\n",
       "    <tr>\n",
       "      <th>TX</th>\n",
       "      <td>48896.141386</td>\n",
       "      <td>9280.507469</td>\n",
       "      <td>7442.313264</td>\n",
       "      <td>15.220656</td>\n",
       "    </tr>\n",
       "  </tbody>\n",
       "</table>\n",
       "</div>"
      ],
      "text/plain": [
       "                           Mean Submitted Covered Charge  \\\n",
       "Rndrng_Prvdr_State_Abrvtn                                  \n",
       "CA                                          64239.051959   \n",
       "FL                                          57928.952145   \n",
       "NY                                          41588.274753   \n",
       "PA                                          43007.948847   \n",
       "TX                                          48896.141386   \n",
       "\n",
       "                           Average Total Payment Amount  \\\n",
       "Rndrng_Prvdr_State_Abrvtn                                 \n",
       "CA                                         11384.972145   \n",
       "FL                                          8112.416890   \n",
       "NY                                         11135.366537   \n",
       "PA                                          8460.226369   \n",
       "TX                                          9280.507469   \n",
       "\n",
       "                           Average Medicare Payment Amount  \\\n",
       "Rndrng_Prvdr_State_Abrvtn                                    \n",
       "CA                                             8896.876512   \n",
       "FL                                             6315.467976   \n",
       "NY                                             8977.983590   \n",
       "PA                                             6175.135158   \n",
       "TX                                             7442.313264   \n",
       "\n",
       "                           Medicare Percentage Covered  \n",
       "Rndrng_Prvdr_State_Abrvtn                               \n",
       "CA                                           13.849639  \n",
       "FL                                           10.902093  \n",
       "NY                                           21.587776  \n",
       "PA                                           14.358125  \n",
       "TX                                           15.220656  "
      ]
     },
     "execution_count": 47,
     "metadata": {},
     "output_type": "execute_result"
    }
   ],
   "source": [
    "# SEPTICEMIA OR SEVERE SEPSIS WITHOUT MV >96 HOURS WITHOUT MCC BY TOP 5 STATES\n",
    "sep = top_states.loc[top_states[\"DRG_Desc\"]==\"SEPTICEMIA OR SEVERE SEPSIS WITHOUT MV >96 HOURS WITHOUT MCC\"]\n",
    "\n",
    "#Cost summary\n",
    "mean_subm_chrg_sep = sep.groupby(\"Rndrng_Prvdr_State_Abrvtn\")[\"Avg_Submtd_Cvrd_Chrg\"].mean().sort_values(ascending=False)\n",
    "mean_tot_paymt_sep = sep.groupby(\"Rndrng_Prvdr_State_Abrvtn\")[\"Avg_Tot_Pymt_Amt\"].mean().sort_values(ascending=False)\n",
    "mean_med_paymt_sep = sep.groupby(\"Rndrng_Prvdr_State_Abrvtn\")[\"Avg_Mdcr_Pymt_Amt\"].mean().sort_values(ascending=False)\n",
    "perc_cov = (mean_med_paymt_sep/mean_subm_chrg_sep)*100\n",
    "# med_submitted_charge = sep.groupby(\"Rndrng_Prvdr_State_Abrvtn\")[\"Avg_Submtd_Cvrd_Chrg\"].median()\n",
    "# var_submitted_charge = sep.groupby(\"Rndrng_Prvdr_State_Abrvtn\")[\"Avg_Submtd_Cvrd_Chrg\"].var()\n",
    "# sd_submitted_charge = sep.groupby(\"Rndrng_Prvdr_State_Abrvtn\")[\"Avg_Submtd_Cvrd_Chrg\"].std()\n",
    "# sem_submitted_charge = sep.groupby(\"Rndrng_Prvdr_State_Abrvtn\")[\"Avg_Submtd_Cvrd_Chrg\"].sem()\n",
    "\n",
    "cost_summary_sep = pd.DataFrame({\n",
    "\"Mean Submitted Covered Charge\": mean_subm_chrg_sep,\n",
    "\"Average Total Payment Amount\": mean_tot_paymt_sep,\n",
    "\"Average Medicare Payment Amount\": mean_med_paymt_sep,\n",
    "\"Medicare Percentage Covered\": perc_cov\n",
    "\n",
    "})\n",
    "cost_summary_sep"
   ]
  },
  {
   "cell_type": "code",
   "execution_count": 50,
   "metadata": {},
   "outputs": [
    {
     "data": {
      "image/png": "[encoded data removed]",
      "text/plain": [
       "<Figure size 640x480 with 1 Axes>"
      ]
     },
     "metadata": {},
     "output_type": "display_data"
    }
   ],
   "source": [
    "# Create a bar chart of medicare payments by state for septicemia without major complication using reduced selected state dataframe\n",
    "height = cost_summary_sep[\"Average Medicare Payment Amount\"].sort_values(ascending=False)\n",
    "\n",
    "plt.bar(x=height.index, height=height)\n",
    "plt.title(\"Medicare Payment for Septicemia without Major Complication/Co-morbidity by State\")\n",
    "plt.xlabel(\"State\")\n",
    "plt.ylabel(\"Cost\")\n",
    "plt.xticks(rotation = 90)\n",
    "plt.savefig(\"Chart5.png\")\n",
    "plt.show()\n"
   ]
  },
  {
   "cell_type": "code",
   "execution_count": 51,
   "metadata": {},
   "outputs": [
    {
     "data": {
      "application/vnd.plotly.v1+json": {
       "config": {
        "plotlyServerURL": "https://plot.ly"
       },
       "data": [
        {
         "alignmentgroup": "True",
         "hovertemplate": "x=%{x}<br>y=%{y}<extra></extra>",
         "legendgroup": "",
         "marker": {
          "color": "#636efa",
          "pattern": {
           "shape": ""
          }
         },
         "name": "",
         "offsetgroup": "",
         "orientation": "v",
         "showlegend": false,
         "textposition": "auto",
         "type": "bar",
         "x": [
          "NY",
          "CA",
          "TX",
          "FL",
          "PA"
         ],
         "xaxis": "x",
         "y": [
          8977.983589821428,
          8896.8765115125,
          7442.313263554878,
          6315.467975875,
          6175.135157980198
         ],
         "yaxis": "y"
        }
       ],
       "layout": {
        "barmode": "relative",
        "legend": {
         "tracegroupgap": 0
        },
        "margin": {
         "t": 60
        },
        "template": {
         "data": {
          "bar": [
           {
            "error_x": {
             "color": "#2a3f5f"
            },
            "error_y": {
             "color": "#2a3f5f"
            },
            "marker": {
             "line": {
              "color": "#E5ECF6",
              "width": 0.5
             },
             "pattern": {
              "fillmode": "overlay",
              "size": 10,
              "solidity": 0.2
             }
            },
            "type": "bar"
           }
          ],
          "barpolar": [
           {
            "marker": {
             "line": {
              "color": "#E5ECF6",
              "width": 0.5
             },
             "pattern": {
              "fillmode": "overlay",
              "size": 10,
              "solidity": 0.2
             }
            },
            "type": "barpolar"
           }
          ],
          "carpet": [
           {
            "aaxis": {
             "endlinecolor": "#2a3f5f",
             "gridcolor": "white",
             "linecolor": "white",
             "minorgridcolor": "white",
             "startlinecolor": "#2a3f5f"
            },
            "baxis": {
             "endlinecolor": "#2a3f5f",
             "gridcolor": "white",
             "linecolor": "white",
             "minorgridcolor": "white",
             "startlinecolor": "#2a3f5f"
            },
            "type": "carpet"
           }
          ],
          "choropleth": [
           {
            "colorbar": {
             "outlinewidth": 0,
             "ticks": ""
            },
            "type": "choropleth"
           }
          ],
          "contour": [
           {
            "colorbar": {
             "outlinewidth": 0,
             "ticks": ""
            },
            "colorscale": [
             [
              0,
              "#0d0887"
             ],
             [
              0.1111111111111111,
              "#46039f"
             ],
             [
              0.2222222222222222,
              "#7201a8"
             ],
             [
              0.3333333333333333,
              "#9c179e"
             ],
             [
              0.4444444444444444,
              "#bd3786"
             ],
             [
              0.5555555555555556,
              "#d8576b"
             ],
             [
              0.6666666666666666,
              "#ed7953"
             ],
             [
              0.7777777777777778,
              "#fb9f3a"
             ],
             [
              0.8888888888888888,
              "#fdca26"
             ],
             [
              1,
              "#f0f921"
             ]
            ],
            "type": "contour"
           }
          ],
          "contourcarpet": [
           {
            "colorbar": {
             "outlinewidth": 0,
             "ticks": ""
            },
            "type": "contourcarpet"
           }
          ],
          "heatmap": [
           {
            "colorbar": {
             "outlinewidth": 0,
             "ticks": ""
            },
            "colorscale": [
             [
              0,
              "#0d0887"
             ],
             [
              0.1111111111111111,
              "#46039f"
             ],
             [
              0.2222222222222222,
              "#7201a8"
             ],
             [
              0.3333333333333333,
              "#9c179e"
             ],
             [
              0.4444444444444444,
              "#bd3786"
             ],
             [
              0.5555555555555556,
              "#d8576b"
             ],
             [
              0.6666666666666666,
              "#ed7953"
             ],
             [
              0.7777777777777778,
              "#fb9f3a"
             ],
             [
              0.8888888888888888,
              "#fdca26"
             ],
             [
              1,
              "#f0f921"
             ]
            ],
            "type": "heatmap"
           }
          ],
          "heatmapgl": [
           {
            "colorbar": {
             "outlinewidth": 0,
             "ticks": ""
            },
            "colorscale": [
             [
              0,
              "#0d0887"
             ],
             [
              0.1111111111111111,
              "#46039f"
             ],
             [
              0.2222222222222222,
              "#7201a8"
             ],
             [
              0.3333333333333333,
              "#9c179e"
             ],
             [
              0.4444444444444444,
              "#bd3786"
             ],
             [
              0.5555555555555556,
              "#d8576b"
             ],
             [
              0.6666666666666666,
              "#ed7953"
             ],
             [
              0.7777777777777778,
              "#fb9f3a"
             ],
             [
              0.8888888888888888,
              "#fdca26"
             ],
             [
              1,
              "#f0f921"
             ]
            ],
            "type": "heatmapgl"
           }
          ],
          "histogram": [
           {
            "marker": {
             "pattern": {
              "fillmode": "overlay",
              "size": 10,
              "solidity": 0.2
             }
            },
            "type": "histogram"
           }
          ],
          "histogram2d": [
           {
            "colorbar": {
             "outlinewidth": 0,
             "ticks": ""
            },
            "colorscale": [
             [
              0,
              "#0d0887"
             ],
             [
              0.1111111111111111,
              "#46039f"
             ],
             [
              0.2222222222222222,
              "#7201a8"
             ],
             [
              0.3333333333333333,
              "#9c179e"
             ],
             [
              0.4444444444444444,
              "#bd3786"
             ],
             [
              0.5555555555555556,
              "#d8576b"
             ],
             [
              0.6666666666666666,
              "#ed7953"
             ],
             [
              0.7777777777777778,
              "#fb9f3a"
             ],
             [
              0.8888888888888888,
              "#fdca26"
             ],
             [
              1,
              "#f0f921"
             ]
            ],
            "type": "histogram2d"
           }
          ],
          "histogram2dcontour": [
           {
            "colorbar": {
             "outlinewidth": 0,
             "ticks": ""
            },
            "colorscale": [
             [
              0,
              "#0d0887"
             ],
             [
              0.1111111111111111,
              "#46039f"
             ],
             [
              0.2222222222222222,
              "#7201a8"
             ],
             [
              0.3333333333333333,
              "#9c179e"
             ],
             [
              0.4444444444444444,
              "#bd3786"
             ],
             [
              0.5555555555555556,
              "#d8576b"
             ],
             [
              0.6666666666666666,
              "#ed7953"
             ],
             [
              0.7777777777777778,
              "#fb9f3a"
             ],
             [
              0.8888888888888888,
              "#fdca26"
             ],
             [
              1,
              "#f0f921"
             ]
            ],
            "type": "histogram2dcontour"
           }
          ],
          "mesh3d": [
           {
            "colorbar": {
             "outlinewidth": 0,
             "ticks": ""
            },
            "type": "mesh3d"
           }
          ],
          "parcoords": [
           {
            "line": {
             "colorbar": {
              "outlinewidth": 0,
              "ticks": ""
             }
            },
            "type": "parcoords"
           }
          ],
          "pie": [
           {
            "automargin": true,
            "type": "pie"
           }
          ],
          "scatter": [
           {
            "fillpattern": {
             "fillmode": "overlay",
             "size": 10,
             "solidity": 0.2
            },
            "type": "scatter"
           }
          ],
          "scatter3d": [
           {
            "line": {
             "colorbar": {
              "outlinewidth": 0,
              "ticks": ""
             }
            },
            "marker": {
             "colorbar": {
              "outlinewidth": 0,
              "ticks": ""
             }
            },
            "type": "scatter3d"
           }
          ],
          "scattercarpet": [
           {
            "marker": {
             "colorbar": {
              "outlinewidth": 0,
              "ticks": ""
             }
            },
            "type": "scattercarpet"
           }
          ],
          "scattergeo": [
           {
            "marker": {
             "colorbar": {
              "outlinewidth": 0,
              "ticks": ""
             }
            },
            "type": "scattergeo"
           }
          ],
          "scattergl": [
           {
            "marker": {
             "colorbar": {
              "outlinewidth": 0,
              "ticks": ""
             }
            },
            "type": "scattergl"
           }
          ],
          "scattermapbox": [
           {
            "marker": {
             "colorbar": {
              "outlinewidth": 0,
              "ticks": ""
             }
            },
            "type": "scattermapbox"
           }
          ],
          "scatterpolar": [
           {
            "marker": {
             "colorbar": {
              "outlinewidth": 0,
              "ticks": ""
             }
            },
            "type": "scatterpolar"
           }
          ],
          "scatterpolargl": [
           {
            "marker": {
             "colorbar": {
              "outlinewidth": 0,
              "ticks": ""
             }
            },
            "type": "scatterpolargl"
           }
          ],
          "scatterternary": [
           {
            "marker": {
             "colorbar": {
              "outlinewidth": 0,
              "ticks": ""
             }
            },
            "type": "scatterternary"
           }
          ],
          "surface": [
           {
            "colorbar": {
             "outlinewidth": 0,
             "ticks": ""
            },
            "colorscale": [
             [
              0,
              "#0d0887"
             ],
             [
              0.1111111111111111,
              "#46039f"
             ],
             [
              0.2222222222222222,
              "#7201a8"
             ],
             [
              0.3333333333333333,
              "#9c179e"
             ],
             [
              0.4444444444444444,
              "#bd3786"
             ],
             [
              0.5555555555555556,
              "#d8576b"
             ],
             [
              0.6666666666666666,
              "#ed7953"
             ],
             [
              0.7777777777777778,
              "#fb9f3a"
             ],
             [
              0.8888888888888888,
              "#fdca26"
             ],
             [
              1,
              "#f0f921"
             ]
            ],
            "type": "surface"
           }
          ],
          "table": [
           {
            "cells": {
             "fill": {
              "color": "#EBF0F8"
             },
             "line": {
              "color": "white"
             }
            },
            "header": {
             "fill": {
              "color": "#C8D4E3"
             },
             "line": {
              "color": "white"
             }
            },
            "type": "table"
           }
          ]
         },
         "layout": {
          "annotationdefaults": {
           "arrowcolor": "#2a3f5f",
           "arrowhead": 0,
           "arrowwidth": 1
          },
          "autotypenumbers": "strict",
          "coloraxis": {
           "colorbar": {
            "outlinewidth": 0,
            "ticks": ""
           }
          },
          "colorscale": {
           "diverging": [
            [
             0,
             "#8e0152"
            ],
            [
             0.1,
             "#c51b7d"
            ],
            [
             0.2,
             "#de77ae"
            ],
            [
             0.3,
             "#f1b6da"
            ],
            [
             0.4,
             "#fde0ef"
            ],
            [
             0.5,
             "#f7f7f7"
            ],
            [
             0.6,
             "#e6f5d0"
            ],
            [
             0.7,
             "#b8e186"
            ],
            [
             0.8,
             "#7fbc41"
            ],
            [
             0.9,
             "#4d9221"
            ],
            [
             1,
             "#276419"
            ]
           ],
           "sequential": [
            [
             0,
             "#0d0887"
            ],
            [
             0.1111111111111111,
             "#46039f"
            ],
            [
             0.2222222222222222,
             "#7201a8"
            ],
            [
             0.3333333333333333,
             "#9c179e"
            ],
            [
             0.4444444444444444,
             "#bd3786"
            ],
            [
             0.5555555555555556,
             "#d8576b"
            ],
            [
             0.6666666666666666,
             "#ed7953"
            ],
            [
             0.7777777777777778,
             "#fb9f3a"
            ],
            [
             0.8888888888888888,
             "#fdca26"
            ],
            [
             1,
             "#f0f921"
            ]
           ],
           "sequentialminus": [
            [
             0,
             "#0d0887"
            ],
            [
             0.1111111111111111,
             "#46039f"
            ],
            [
             0.2222222222222222,
             "#7201a8"
            ],
            [
             0.3333333333333333,
             "#9c179e"
            ],
            [
             0.4444444444444444,
             "#bd3786"
            ],
            [
             0.5555555555555556,
             "#d8576b"
            ],
            [
             0.6666666666666666,
             "#ed7953"
            ],
            [
             0.7777777777777778,
             "#fb9f3a"
            ],
            [
             0.8888888888888888,
             "#fdca26"
            ],
            [
             1,
             "#f0f921"
            ]
           ]
          },
          "colorway": [
           "#636efa",
           "#EF553B",
           "#00cc96",
           "#ab63fa",
           "#FFA15A",
           "#19d3f3",
           "#FF6692",
           "#B6E880",
           "#FF97FF",
           "#FECB52"
          ],
          "font": {
           "color": "#2a3f5f"
          },
          "geo": {
           "bgcolor": "white",
           "lakecolor": "white",
           "landcolor": "#E5ECF6",
           "showlakes": true,
           "showland": true,
           "subunitcolor": "white"
          },
          "hoverlabel": {
           "align": "left"
          },
          "hovermode": "closest",
          "mapbox": {
           "style": "light"
          },
          "paper_bgcolor": "white",
          "plot_bgcolor": "#E5ECF6",
          "polar": {
           "angularaxis": {
            "gridcolor": "white",
            "linecolor": "white",
            "ticks": ""
           },
           "bgcolor": "#E5ECF6",
           "radialaxis": {
            "gridcolor": "white",
            "linecolor": "white",
            "ticks": ""
           }
          },
          "scene": {
           "xaxis": {
            "backgroundcolor": "#E5ECF6",
            "gridcolor": "white",
            "gridwidth": 2,
            "linecolor": "white",
            "showbackground": true,
            "ticks": "",
            "zerolinecolor": "white"
           },
           "yaxis": {
            "backgroundcolor": "#E5ECF6",
            "gridcolor": "white",
            "gridwidth": 2,
            "linecolor": "white",
            "showbackground": true,
            "ticks": "",
            "zerolinecolor": "white"
           },
           "zaxis": {
            "backgroundcolor": "#E5ECF6",
            "gridcolor": "white",
            "gridwidth": 2,
            "linecolor": "white",
            "showbackground": true,
            "ticks": "",
            "zerolinecolor": "white"
           }
          },
          "shapedefaults": {
           "line": {
            "color": "#2a3f5f"
           }
          },
          "ternary": {
           "aaxis": {
            "gridcolor": "white",
            "linecolor": "white",
            "ticks": ""
           },
           "baxis": {
            "gridcolor": "white",
            "linecolor": "white",
            "ticks": ""
           },
           "bgcolor": "#E5ECF6",
           "caxis": {
            "gridcolor": "white",
            "linecolor": "white",
            "ticks": ""
           }
          },
          "title": {
           "x": 0.05
          },
          "xaxis": {
           "automargin": true,
           "gridcolor": "white",
           "linecolor": "white",
           "ticks": "",
           "title": {
            "standoff": 15
           },
           "zerolinecolor": "white",
           "zerolinewidth": 2
          },
          "yaxis": {
           "automargin": true,
           "gridcolor": "white",
           "linecolor": "white",
           "ticks": "",
           "title": {
            "standoff": 15
           },
           "zerolinecolor": "white",
           "zerolinewidth": 2
          }
         }
        },
        "xaxis": {
         "anchor": "y",
         "domain": [
          0,
          1
         ],
         "title": {
          "text": "x"
         }
        },
        "yaxis": {
         "anchor": "x",
         "domain": [
          0,
          1
         ],
         "title": {
          "text": "y"
         }
        }
       }
      }
     },
     "metadata": {},
     "output_type": "display_data"
    }
   ],
   "source": [
    "#Plotly, Need to replace labels\n",
    "fig = px.bar(x=height.reset_index()['Rndrng_Prvdr_State_Abrvtn'], y=height.reset_index()['Average Medicare Payment Amount'])\n",
    "fig.show()"
   ]
  },
  {
   "cell_type": "code",
   "execution_count": null,
   "metadata": {},
   "outputs": [],
   "source": []
  },
  {
   "cell_type": "code",
   "execution_count": null,
   "metadata": {},
   "outputs": [],
   "source": [
    "\n"
   ]
  },
  {
   "cell_type": "markdown",
   "metadata": {},
   "source": [
    "## Quartiles, Outliers and Boxplots"
   ]
  },
  {
   "cell_type": "code",
   "execution_count": null,
   "metadata": {},
   "outputs": [],
   "source": []
  },
  {
   "cell_type": "code",
   "execution_count": null,
   "metadata": {},
   "outputs": [],
   "source": []
  },
  {
   "cell_type": "code",
   "execution_count": null,
   "metadata": {},
   "outputs": [],
   "source": []
  },
  {
   "cell_type": "markdown",
   "metadata": {},
   "source": [
    "## Line and Scatter Plots"
   ]
  },
  {
   "cell_type": "code",
   "execution_count": null,
   "metadata": {},
   "outputs": [],
   "source": []
  },
  {
   "cell_type": "code",
   "execution_count": null,
   "metadata": {},
   "outputs": [],
   "source": []
  },
  {
   "cell_type": "markdown",
   "metadata": {},
   "source": [
    "## Correlation and Regression"
   ]
  },
  {
   "cell_type": "code",
   "execution_count": null,
   "metadata": {},
   "outputs": [],
   "source": []
  },
  {
   "cell_type": "code",
   "execution_count": null,
   "metadata": {},
   "outputs": [],
   "source": []
  }
 ],
 "metadata": {
  "anaconda-cloud": {},
  "kernelspec": {
   "display_name": "PythonData",
   "language": "python",
   "name": "python3"
  },
  "language_info": {
   "codemirror_mode": {
    "name": "ipython",
    "version": 3
   },
   "file_extension": ".py",
   "mimetype": "text/x-python",
   "name": "python",
   "nbconvert_exporter": "python",
   "pygments_lexer": "ipython3",
   "version": "3.10.13"
  }
 },
 "nbformat": 4,
 "nbformat_minor": 4
}
